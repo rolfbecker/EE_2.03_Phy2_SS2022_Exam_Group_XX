{
 "cells": [
  {
   "cell_type": "markdown",
   "metadata": {},
   "source": [
    "# Task 01: U-Value of a Tiny House\n",
    "\n",
    "Version: V001, 2022-07-09, rb\n",
    "\n",
    "## Some Rules\n",
    "\n",
    "<div class=\"alert-warning\">\n",
    "    WARNING: If you just write down numbers without explicitly calculating them in Python, we will not give any points for that!\n",
    "</div>\n",
    "\n",
    "<p>\n",
    "\n",
    "* To perform your calculations in this Jupyter notebook **use Python code cell only!** No external spreadsheet programs nor pocket calculators!\n",
    "* Use **formatted printing** to report the **results** of your calculations including **units**!      \n",
    "* **Use markdown cells** to explain your approach and answers when necessary. Discuss and reflect, when appropriate. Are your results plausible?\n",
    "* **Add more code and markdown cells, if necessary.**  \n",
    "* If you use information from the **internet** you will have to provide the **references** (e.g. links) to the information sources uniquely. "
   ]
  },
  {
   "cell_type": "markdown",
   "metadata": {},
   "source": [
    "## Example of a Comprehensive Question-Calculation-Answer Block\n",
    "\n",
    "**We expect you to produce an appropriate flow of question, calculation, and answer!** <br>\n",
    "Appropriate means that all of your steps, thoughts, and calculations are clear and **easy to understand**. In order to grade your work, we must be able to easily follow what you are doing. If you do your work in a way that is difficult for us to understand, you will **not get a good grade**. All your calculations have to be **explicit!** If you just write down a number you calculated with a pocket calculator or a spreadsheet program we will **deduct points** for this. \n",
    "\n",
    "In many cases it is enough to use **formatted printing** such as `print(f\"The mass of the ice block is m = {m:.2f}kg\")` in code cells to report your results. **But** sometimes you have to explain and justify your approach or you have to list your references clearly. **In these case you have to use markdown cells, too!** "
   ]
  },
  {
   "cell_type": "markdown",
   "metadata": {},
   "source": [
    "### Example"
   ]
  },
  {
   "cell_type": "markdown",
   "metadata": {},
   "source": [
    "**Question:** Find the desity $\\rho$ of water ice in the internet. Provide the link to your source of information. What is the weight force of $2\\mathrm{L}$ of ice, if its density is $\\rho$ and the gravitation acceleration is $9.8\\mathrm{m/s^2}$? Use SI units!"
   ]
  },
  {
   "cell_type": "code",
   "execution_count": 1,
   "metadata": {},
   "outputs": [
    {
     "name": "stdout",
     "output_type": "stream",
     "text": [
      "The mass of the ice block is m = 1.83kg\n",
      "The weight force of the ice block is F = 17.97N\n"
     ]
    }
   ],
   "source": [
    "# Calculations:\n",
    "\n",
    "# Given\n",
    "g   = 9.8  # in m/s^2\n",
    "V   = 2.0*1e-3  # in m^3\n",
    "rho = 0.917*1e-3/(1e-2)**3  # in kg/m^3\n",
    "\n",
    "m = rho*V # mass of the ice in mg\n",
    "F = m*g # force in N\n",
    "\n",
    "print(f\"The mass of the ice block is m = {m:.2f}kg\")\n",
    "print(f\"The weight force of the ice block is F = {F:.2f}N\")"
   ]
  },
  {
   "cell_type": "markdown",
   "metadata": {},
   "source": [
    "**Answer:** <br>\n",
    "According to the Wikipedia article on [**Ice**](https://en.wikipedia.org/wiki/Ice) its density is approximately $\\rho = 0.917\\,\\mathrm{kg/L}= 917\\,\\mathrm{kg/m^3}$. \n",
    "<br>_(This markdown cell is necessary to explain the chosen value and to refer to the information source)._\n",
    "\n",
    "The weight force of the ice block is $F = 17.97\\,\\mathrm{kg\\,m\\,s^{-2}}$ (Alternatives: $F = 17.97\\,\\mathrm{\\frac{kg\\,m}{s^2}}$ or even $F = 17.97\\,\\mathrm{N}$).\n",
    "<br>_(This markdown cell is used in addition to formatted printing. It allows more freedom in typesetting.)_"
   ]
  },
  {
   "cell_type": "markdown",
   "metadata": {},
   "source": [
    "## 1. Introduction\n",
    "\n",
    "**Calculate the U-values of a simple house!** \n",
    "\n",
    "In the physics 2 course we introduced simple problems of thermal conductance in walls based on<br> _ISO6946: Building components and building elements - Thermal resistance and thermal transmittance - Calculation method._\n",
    "\n",
    "ISO6946 provides further calculation recipes for other features we have not studied in detail, e.g. air gaps as insulation layers, roofs with tapered segments or mechanical fasteners penetrating an insulation layer.\n"
   ]
  },
  {
   "cell_type": "markdown",
   "metadata": {
    "tags": []
   },
   "source": [
    "## 2. Geometry of the House"
   ]
  },
  {
   "cell_type": "markdown",
   "metadata": {},
   "source": [
    "### General Description\n",
    "\n",
    "The house is a tiny house with 5 m x 5 m **inner** ground area (defined by the inner wall surfaces) with a shed roof. The building has a perfect north-south-orientation such that the roof is inclined to the south.\n",
    "\n",
    "East and west wall (side walls) have **windows** of 160 cm x 100 cm size, **single glazing**. \n",
    "The north wall has a **wooden entrance door** of 100 cm x 200 cm. The south wall has no opening.\n",
    "\n",
    "The **roof** is supported by **rafters**, between which is placed **insulation** material. Above the rafter layer is a layer of **wooden boards**. Only these layers have to be taken into account to calculate the thermal transmittance. Roof tiles are not considered and are not shown because they are ventilated and do not contribute to the thermal insulation of the roof.  \n",
    "\n",
    "The **concrete slab foundation and floor construction** will be described futher down in a separate sction.\n"
   ]
  },
  {
   "cell_type": "markdown",
   "metadata": {},
   "source": [
    "<div>\n",
    "    <figure> \n",
    "        <img src=\"./pics/ss1.png\" width=\"800\"/>\n",
    "        <figcaption>Fig. 2.1: A tiny house with shed roof. Left: 3D view with top layer of wood as part of the roof structure, middle: same as left but opaque, right: without top wood layer to show rafter and insulation layer. The roof is inclined to the south and the door opening is located in the north wall.</figcaption>\n",
    "    </figure>\n",
    "</div>"
   ]
  },
  {
   "cell_type": "markdown",
   "metadata": {},
   "source": [
    "<div>\n",
    "    <figure>\n",
    "        <img src=\"./pics/ss2_v2.png\" width=\"600\"/>\n",
    "        <figcaption>Fig. 2.2: Left: North wall (N) with door opening, right: south wall (S) without openings.</figcaption>\n",
    "    </figure>\n",
    "</div>"
   ]
  },
  {
   "cell_type": "markdown",
   "metadata": {},
   "source": [
    "<div>\n",
    "    <figure>\n",
    "        <img src=\"./pics/ss4.png\" width=\"600\"/>\n",
    "        <figcaption>Fig. 2.3: Left: east wall (E), right: west wall (W).</figcaption>\n",
    "    </figure>\n",
    "</div>"
   ]
  },
  {
   "cell_type": "markdown",
   "metadata": {},
   "source": [
    "\n",
    "<div>\n",
    "    <figure>\n",
    "        <img src=\"./pics/ss3.png\" width=\"600\"/>\n",
    "        <figcaption>Fig. 2.4: Left: Floor plan, right: orthogonal projection of the rafter/insulation layer.</figcaption>\n",
    "    </figure>\n",
    "</div>"
   ]
  },
  {
   "cell_type": "markdown",
   "metadata": {},
   "source": [
    "### Questions, Definitions, Tasks\n",
    "\n",
    "In the following block of questions **separate markdowns cells are not necessary** to give the answers.<br>\n",
    "Just **use formatted printing**, e.g. `print(f\"A_F = {A_F:.2f} m^2\")`"
   ]
  },
  {
   "cell_type": "markdown",
   "metadata": {},
   "source": [
    "**Q 2.1:** What is area of the quadratic floor $A_\\mathrm{F}$ (not including door opening) inside the building?"
   ]
  },
  {
   "cell_type": "code",
   "execution_count": 2,
   "metadata": {},
   "outputs": [],
   "source": [
    "# Calculations: A_F = ...\n",
    "\n",
    "# print(f\"A_F = {A_F:.2f} m^2\")"
   ]
  },
  {
   "cell_type": "markdown",
   "metadata": {},
   "source": [
    "**Q 2.2:** Calculate the angle $\\alpha$ of **roof inclination**. <br>What is the **real area** of the **tilted roof** $A_\\mathrm{R}$ (not projected) **seen from inside the house?** It is different from the floor area."
   ]
  },
  {
   "cell_type": "code",
   "execution_count": 3,
   "metadata": {},
   "outputs": [],
   "source": [
    "# Calculations: alpha = ...  A_R = ...  \n",
    "\n",
    "# print ..."
   ]
  },
  {
   "cell_type": "markdown",
   "metadata": {},
   "source": [
    "**Q 2.3:** What is the area of each of the four walls including openings ($A_\\mathrm{N}$, $A_\\mathrm{E}$, $A_\\mathrm{S}$, $A_\\mathrm{W}$) as seen from the inside of the house?"
   ]
  },
  {
   "cell_type": "code",
   "execution_count": 4,
   "metadata": {},
   "outputs": [],
   "source": [
    "# Calculations: A_N = ...\n",
    "\n",
    "# print ..."
   ]
  },
  {
   "cell_type": "markdown",
   "metadata": {},
   "source": [
    "**Q 2.4:** What is the area percentage of the east and west windows as well as the door on their respective walls ($f_\\mathrm{winE}$, $f_\\mathrm{winW}$, $f_\\mathrm{doorN}$)? "
   ]
  },
  {
   "cell_type": "code",
   "execution_count": 5,
   "metadata": {},
   "outputs": [],
   "source": [
    "# Calculations: f_winE = ...\n",
    "\n",
    "# print ..."
   ]
  },
  {
   "cell_type": "markdown",
   "metadata": {},
   "source": [
    "**Q 2.5:** What is the cross-sectional size of the timber rafters (height $d_\\mathrm{T}$ and width $w_\\mathrm{T}$) ?"
   ]
  },
  {
   "cell_type": "code",
   "execution_count": 6,
   "metadata": {},
   "outputs": [],
   "source": [
    "# Calculations: d_T = ...\n",
    "\n",
    "# print ..."
   ]
  },
  {
   "cell_type": "markdown",
   "metadata": {},
   "source": [
    "**Q 2.6:** How thick is the insulation ($d_\\mathrm{I}$) between the rafters?"
   ]
  },
  {
   "cell_type": "code",
   "execution_count": 7,
   "metadata": {},
   "outputs": [],
   "source": [
    "# Calculations: d_I = ...\n",
    "\n",
    "# print ..."
   ]
  },
  {
   "cell_type": "markdown",
   "metadata": {},
   "source": [
    "**Q 2.7:** How thick is the layer of wood ($d_\\mathrm{W})$ on top of rafters and insulation?"
   ]
  },
  {
   "cell_type": "code",
   "execution_count": 8,
   "metadata": {},
   "outputs": [],
   "source": [
    "# Calculations: d_W = ...\n",
    "\n",
    "# print ..."
   ]
  },
  {
   "cell_type": "markdown",
   "metadata": {},
   "source": [
    "## 3. Wall Construction\n",
    "\n",
    "### General Description\n",
    "\n",
    "All side walls of the house are made of the same sandwich of materials. The mansonry construction (aka construction element) consists of four thermally homogeneous layers.\n",
    "\n",
    "<div>\n",
    "    <figure> \n",
    "        <img src=\"./pics/4-layer_wall.png\" width=\"150\"/>\n",
    "        <figcaption>Fig. 3.1: The four layers of the mansonry construction.</figcaption>\n",
    "    </figure>\n",
    "</div>\n",
    "\n",
    "| Layer | Material | $d$ / cm | $\\lambda$ / W/(m K) | \n",
    "| --- | --- | --- | --- |\n",
    "|  1  | plaster  |  1.0 |  0.510 |\n",
    "|  2  | sand-lime brick|  24.0 |  0.560 |\n",
    "|  3  | core insulation |  4.0 |  0.035 |\n",
    "|  4  | solid brick cladding |  11.5 |  0.500 |\n",
    "\n",
    "\n"
   ]
  },
  {
   "cell_type": "markdown",
   "metadata": {},
   "source": [
    "### Mini Tutorial on Vectorized Operations \n",
    "\n",
    "Pandas dataframes and their columns work like numpy arrays. They allow vectorized operations. Use vectorized operations as much as possible!\n",
    "<br>Vectorized operations are operating on all elements (cells) of a numpy or pandas data structure at once. They are fast and easy to use.\n",
    "<br>This very short tutorial is not comprehensive! See the official pandas documentation and tutorials."
   ]
  },
  {
   "cell_type": "code",
   "execution_count": 9,
   "metadata": {
    "tags": []
   },
   "outputs": [],
   "source": [
    "import numpy as np\n",
    "import pandas as pd"
   ]
  },
  {
   "cell_type": "code",
   "execution_count": 10,
   "metadata": {},
   "outputs": [
    {
     "data": {
      "text/html": [
       "<div>\n",
       "<style scoped>\n",
       "    .dataframe tbody tr th:only-of-type {\n",
       "        vertical-align: middle;\n",
       "    }\n",
       "\n",
       "    .dataframe tbody tr th {\n",
       "        vertical-align: top;\n",
       "    }\n",
       "\n",
       "    .dataframe thead th {\n",
       "        text-align: right;\n",
       "    }\n",
       "</style>\n",
       "<table border=\"1\" class=\"dataframe\">\n",
       "  <thead>\n",
       "    <tr style=\"text-align: right;\">\n",
       "      <th></th>\n",
       "      <th>x</th>\n",
       "      <th>y</th>\n",
       "      <th>z</th>\n",
       "    </tr>\n",
       "  </thead>\n",
       "  <tbody>\n",
       "    <tr>\n",
       "      <th>0</th>\n",
       "      <td>1.0</td>\n",
       "      <td>3.0</td>\n",
       "      <td>0.0</td>\n",
       "    </tr>\n",
       "    <tr>\n",
       "      <th>1</th>\n",
       "      <td>2.0</td>\n",
       "      <td>1.0</td>\n",
       "      <td>0.0</td>\n",
       "    </tr>\n",
       "    <tr>\n",
       "      <th>2</th>\n",
       "      <td>3.0</td>\n",
       "      <td>4.0</td>\n",
       "      <td>0.0</td>\n",
       "    </tr>\n",
       "    <tr>\n",
       "      <th>3</th>\n",
       "      <td>4.0</td>\n",
       "      <td>1.0</td>\n",
       "      <td>0.0</td>\n",
       "    </tr>\n",
       "  </tbody>\n",
       "</table>\n",
       "</div>"
      ],
      "text/plain": [
       "     x    y    z\n",
       "0  1.0  3.0  0.0\n",
       "1  2.0  1.0  0.0\n",
       "2  3.0  4.0  0.0\n",
       "3  4.0  1.0  0.0"
      ]
     },
     "execution_count": 10,
     "metadata": {},
     "output_type": "execute_result"
    }
   ],
   "source": [
    "# Example dataframe\n",
    "df_tmp = pd.DataFrame(\n",
    "    {'x' : [1.0, 2.0, 3.0, 4.0],\n",
    "     'y' : [3., 1., 4., 1.],\n",
    "     'z' : np.zeros(4)\n",
    "    })\n",
    "df_tmp"
   ]
  },
  {
   "cell_type": "code",
   "execution_count": 11,
   "metadata": {},
   "outputs": [
    {
     "data": {
      "text/html": [
       "<div>\n",
       "<style scoped>\n",
       "    .dataframe tbody tr th:only-of-type {\n",
       "        vertical-align: middle;\n",
       "    }\n",
       "\n",
       "    .dataframe tbody tr th {\n",
       "        vertical-align: top;\n",
       "    }\n",
       "\n",
       "    .dataframe thead th {\n",
       "        text-align: right;\n",
       "    }\n",
       "</style>\n",
       "<table border=\"1\" class=\"dataframe\">\n",
       "  <thead>\n",
       "    <tr style=\"text-align: right;\">\n",
       "      <th></th>\n",
       "      <th>x</th>\n",
       "      <th>y</th>\n",
       "      <th>z</th>\n",
       "    </tr>\n",
       "  </thead>\n",
       "  <tbody>\n",
       "    <tr>\n",
       "      <th>0</th>\n",
       "      <td>36.0</td>\n",
       "      <td>38.0</td>\n",
       "      <td>35.0</td>\n",
       "    </tr>\n",
       "    <tr>\n",
       "      <th>1</th>\n",
       "      <td>37.0</td>\n",
       "      <td>36.0</td>\n",
       "      <td>35.0</td>\n",
       "    </tr>\n",
       "    <tr>\n",
       "      <th>2</th>\n",
       "      <td>38.0</td>\n",
       "      <td>39.0</td>\n",
       "      <td>35.0</td>\n",
       "    </tr>\n",
       "    <tr>\n",
       "      <th>3</th>\n",
       "      <td>39.0</td>\n",
       "      <td>36.0</td>\n",
       "      <td>35.0</td>\n",
       "    </tr>\n",
       "  </tbody>\n",
       "</table>\n",
       "</div>"
      ],
      "text/plain": [
       "      x     y     z\n",
       "0  36.0  38.0  35.0\n",
       "1  37.0  36.0  35.0\n",
       "2  38.0  39.0  35.0\n",
       "3  39.0  36.0  35.0"
      ]
     },
     "execution_count": 11,
     "metadata": {},
     "output_type": "execute_result"
    }
   ],
   "source": [
    "# Calculations on all elements (aka cells) of a whole data frame in one pass\n",
    "df_tmp + 7 * 5"
   ]
  },
  {
   "cell_type": "code",
   "execution_count": 12,
   "metadata": {},
   "outputs": [
    {
     "data": {
      "text/plain": [
       "0    3.500000\n",
       "1    1.500000\n",
       "2    2.666667\n",
       "3    1.000000\n",
       "dtype: float64"
      ]
     },
     "execution_count": 12,
     "metadata": {},
     "output_type": "execute_result"
    }
   ],
   "source": [
    "# Operations on columns (= pandas series)\n",
    "2/df_tmp['x'] + df_tmp['y']/2"
   ]
  },
  {
   "cell_type": "code",
   "execution_count": 13,
   "metadata": {},
   "outputs": [
    {
     "data": {
      "text/html": [
       "<div>\n",
       "<style scoped>\n",
       "    .dataframe tbody tr th:only-of-type {\n",
       "        vertical-align: middle;\n",
       "    }\n",
       "\n",
       "    .dataframe tbody tr th {\n",
       "        vertical-align: top;\n",
       "    }\n",
       "\n",
       "    .dataframe thead th {\n",
       "        text-align: right;\n",
       "    }\n",
       "</style>\n",
       "<table border=\"1\" class=\"dataframe\">\n",
       "  <thead>\n",
       "    <tr style=\"text-align: right;\">\n",
       "      <th></th>\n",
       "      <th>x</th>\n",
       "      <th>y</th>\n",
       "      <th>z</th>\n",
       "    </tr>\n",
       "  </thead>\n",
       "  <tbody>\n",
       "    <tr>\n",
       "      <th>0</th>\n",
       "      <td>1.0</td>\n",
       "      <td>3.0</td>\n",
       "      <td>3.500000</td>\n",
       "    </tr>\n",
       "    <tr>\n",
       "      <th>1</th>\n",
       "      <td>2.0</td>\n",
       "      <td>1.0</td>\n",
       "      <td>1.500000</td>\n",
       "    </tr>\n",
       "    <tr>\n",
       "      <th>2</th>\n",
       "      <td>3.0</td>\n",
       "      <td>4.0</td>\n",
       "      <td>2.666667</td>\n",
       "    </tr>\n",
       "    <tr>\n",
       "      <th>3</th>\n",
       "      <td>4.0</td>\n",
       "      <td>1.0</td>\n",
       "      <td>1.000000</td>\n",
       "    </tr>\n",
       "  </tbody>\n",
       "</table>\n",
       "</div>"
      ],
      "text/plain": [
       "     x    y         z\n",
       "0  1.0  3.0  3.500000\n",
       "1  2.0  1.0  1.500000\n",
       "2  3.0  4.0  2.666667\n",
       "3  4.0  1.0  1.000000"
      ]
     },
     "execution_count": 13,
     "metadata": {},
     "output_type": "execute_result"
    }
   ],
   "source": [
    "# Storing the results in an existing column\n",
    "df_tmp['z'] = 2/df_tmp['x'] + df_tmp['y']/2\n",
    "df_tmp"
   ]
  },
  {
   "cell_type": "code",
   "execution_count": 14,
   "metadata": {},
   "outputs": [
    {
     "data": {
      "text/html": [
       "<div>\n",
       "<style scoped>\n",
       "    .dataframe tbody tr th:only-of-type {\n",
       "        vertical-align: middle;\n",
       "    }\n",
       "\n",
       "    .dataframe tbody tr th {\n",
       "        vertical-align: top;\n",
       "    }\n",
       "\n",
       "    .dataframe thead th {\n",
       "        text-align: right;\n",
       "    }\n",
       "</style>\n",
       "<table border=\"1\" class=\"dataframe\">\n",
       "  <thead>\n",
       "    <tr style=\"text-align: right;\">\n",
       "      <th></th>\n",
       "      <th>x</th>\n",
       "      <th>y</th>\n",
       "      <th>z</th>\n",
       "      <th>z2</th>\n",
       "    </tr>\n",
       "  </thead>\n",
       "  <tbody>\n",
       "    <tr>\n",
       "      <th>0</th>\n",
       "      <td>1.0</td>\n",
       "      <td>3.0</td>\n",
       "      <td>3.500000</td>\n",
       "      <td>0.285714</td>\n",
       "    </tr>\n",
       "    <tr>\n",
       "      <th>1</th>\n",
       "      <td>2.0</td>\n",
       "      <td>1.0</td>\n",
       "      <td>1.500000</td>\n",
       "      <td>2.666667</td>\n",
       "    </tr>\n",
       "    <tr>\n",
       "      <th>2</th>\n",
       "      <td>3.0</td>\n",
       "      <td>4.0</td>\n",
       "      <td>2.666667</td>\n",
       "      <td>3.375000</td>\n",
       "    </tr>\n",
       "    <tr>\n",
       "      <th>3</th>\n",
       "      <td>4.0</td>\n",
       "      <td>1.0</td>\n",
       "      <td>1.000000</td>\n",
       "      <td>16.000000</td>\n",
       "    </tr>\n",
       "  </tbody>\n",
       "</table>\n",
       "</div>"
      ],
      "text/plain": [
       "     x    y         z         z2\n",
       "0  1.0  3.0  3.500000   0.285714\n",
       "1  2.0  1.0  1.500000   2.666667\n",
       "2  3.0  4.0  2.666667   3.375000\n",
       "3  4.0  1.0  1.000000  16.000000"
      ]
     },
     "execution_count": 14,
     "metadata": {},
     "output_type": "execute_result"
    }
   ],
   "source": [
    "# Store the results in a new column z2\n",
    "df_tmp['z2'] = df_tmp['x']**2 / df_tmp['z']\n",
    "df_tmp"
   ]
  },
  {
   "cell_type": "code",
   "execution_count": 15,
   "metadata": {},
   "outputs": [
    {
     "data": {
      "text/plain": [
       "x     0.300000\n",
       "y     0.400000\n",
       "z     0.266667\n",
       "z2    0.337500\n",
       "Name: 2, dtype: float64"
      ]
     },
     "execution_count": 15,
     "metadata": {},
     "output_type": "execute_result"
    }
   ],
   "source": [
    "# Operations on rows\n",
    "df_tmp.iloc[2]/10."
   ]
  },
  {
   "cell_type": "markdown",
   "metadata": {
    "tags": []
   },
   "source": [
    "### Questions, Definitions, Tasks\n",
    "\n",
    "The pandas dataframe below is partly filled. Some useful columns are initialized with $0$. \n",
    "<br>Fill these columns with the right values you calculate. "
   ]
  },
  {
   "cell_type": "code",
   "execution_count": 16,
   "metadata": {
    "tags": []
   },
   "outputs": [
    {
     "data": {
      "text/html": [
       "<div>\n",
       "<style scoped>\n",
       "    .dataframe tbody tr th:only-of-type {\n",
       "        vertical-align: middle;\n",
       "    }\n",
       "\n",
       "    .dataframe tbody tr th {\n",
       "        vertical-align: top;\n",
       "    }\n",
       "\n",
       "    .dataframe thead th {\n",
       "        text-align: right;\n",
       "    }\n",
       "</style>\n",
       "<table border=\"1\" class=\"dataframe\">\n",
       "  <thead>\n",
       "    <tr style=\"text-align: right;\">\n",
       "      <th></th>\n",
       "      <th>d_in_cm</th>\n",
       "      <th>d</th>\n",
       "      <th>lam</th>\n",
       "      <th>Lam</th>\n",
       "      <th>R</th>\n",
       "    </tr>\n",
       "  </thead>\n",
       "  <tbody>\n",
       "    <tr>\n",
       "      <th>0</th>\n",
       "      <td>1.0</td>\n",
       "      <td>0.0</td>\n",
       "      <td>0.510</td>\n",
       "      <td>0.0</td>\n",
       "      <td>0.0</td>\n",
       "    </tr>\n",
       "    <tr>\n",
       "      <th>1</th>\n",
       "      <td>24.0</td>\n",
       "      <td>0.0</td>\n",
       "      <td>0.560</td>\n",
       "      <td>0.0</td>\n",
       "      <td>0.0</td>\n",
       "    </tr>\n",
       "    <tr>\n",
       "      <th>2</th>\n",
       "      <td>4.0</td>\n",
       "      <td>0.0</td>\n",
       "      <td>0.035</td>\n",
       "      <td>0.0</td>\n",
       "      <td>0.0</td>\n",
       "    </tr>\n",
       "    <tr>\n",
       "      <th>3</th>\n",
       "      <td>11.5</td>\n",
       "      <td>0.0</td>\n",
       "      <td>0.500</td>\n",
       "      <td>0.0</td>\n",
       "      <td>0.0</td>\n",
       "    </tr>\n",
       "  </tbody>\n",
       "</table>\n",
       "</div>"
      ],
      "text/plain": [
       "   d_in_cm    d    lam  Lam    R\n",
       "0      1.0  0.0  0.510  0.0  0.0\n",
       "1     24.0  0.0  0.560  0.0  0.0\n",
       "2      4.0  0.0  0.035  0.0  0.0\n",
       "3     11.5  0.0  0.500  0.0  0.0"
      ]
     },
     "execution_count": 16,
     "metadata": {},
     "output_type": "execute_result"
    }
   ],
   "source": [
    "# Your dataframe\n",
    "df = pd.DataFrame(\n",
    "    {'d_in_cm': [1.0, 24.0, 4.0, 11.5],\n",
    "     'd' : np.zeros(4),    \n",
    "     'lam' : [0.510, 0.560, 0.035, 0.500],\n",
    "     'Lam' : np.zeros(4),\n",
    "     'R' : np.zeros(4)\n",
    "    })\n",
    "df"
   ]
  },
  {
   "cell_type": "markdown",
   "metadata": {},
   "source": [
    "**Q 3.1:** Convert the thicknesses from cm to m and store the result in column `d`. Use vectorized operations."
   ]
  },
  {
   "cell_type": "code",
   "execution_count": 17,
   "metadata": {},
   "outputs": [],
   "source": [
    "# Calculations:\n",
    "\n",
    "# print(df)"
   ]
  },
  {
   "cell_type": "markdown",
   "metadata": {},
   "source": [
    "**Q 3.2:** Calculate thermal transmittance $\\Lambda$ and thermal resistance $R$ and store the results in the dataframe columns `Lam` and `R`, respectively."
   ]
  },
  {
   "cell_type": "code",
   "execution_count": 18,
   "metadata": {},
   "outputs": [],
   "source": [
    "# Calculations:\n",
    "\n",
    "# print(df)"
   ]
  },
  {
   "cell_type": "markdown",
   "metadata": {},
   "source": [
    "**Q 3.3:** Calculate the wall resistance $R_W$ of the 4-layered wall construction. "
   ]
  },
  {
   "cell_type": "code",
   "execution_count": 19,
   "metadata": {},
   "outputs": [],
   "source": [
    "# Calculations: R_W = ...\n",
    "\n",
    "# print ..."
   ]
  },
  {
   "cell_type": "markdown",
   "metadata": {},
   "source": [
    "**Q 3.4:** Choose appropriate external and internal surface resistances for the side walls. Make reasonable assumptions according to the relevant standard (name it!) and justify. Which physical phenomenon do the surface resistances represent? Provide references to your infomation sources. \n",
    "<br>The [**documentation**](https://www.htflux.com/en/documentation/boundary-conditions/surface-resistance-heat-transfer-coefficient/) of the simulation software **HTflux** provides a very good overview on design ('typical') **surface resistances** for different cases, e.g. wall, roof, ground plate, etc."
   ]
  },
  {
   "cell_type": "code",
   "execution_count": 20,
   "metadata": {},
   "outputs": [],
   "source": [
    "# Calculations: R_se = ...    Rsi = ...\n",
    "\n",
    "# print ..."
   ]
  },
  {
   "cell_type": "markdown",
   "metadata": {},
   "source": [
    "**Q 3.5:** Calculate the total thermal resistance $R_T$."
   ]
  },
  {
   "cell_type": "code",
   "execution_count": 21,
   "metadata": {},
   "outputs": [],
   "source": [
    "# Calculations:\n",
    "\n",
    "# print ..."
   ]
  },
  {
   "cell_type": "markdown",
   "metadata": {},
   "source": [
    "**Q 3.6:** Calculate the U-value of the layered wall construction. Is it good or bad? Compare it to reference values in the internet. Provide links to your information sources."
   ]
  },
  {
   "cell_type": "code",
   "execution_count": 22,
   "metadata": {},
   "outputs": [],
   "source": [
    "# Calculations: U = ...\n",
    "\n",
    "# print ..."
   ]
  },
  {
   "cell_type": "markdown",
   "metadata": {},
   "source": [
    "**Q 3.7:** Assume the interior **wall** surface temperature  $T_\\mathrm{si} = 20^\\circ\\mathrm{C}$ and the exterior wall surface temperature is $T_\\mathrm{se} = -5^\\circ\\mathrm{C}$. What is the heat flux $q$ (an area density) through the wall? What is the total heat loss $P_S$ through the south wall? Hint: The unit of $P_S$ is $\\mathrm{W}$, i.e. power or energy flow rate, not power density."
   ]
  },
  {
   "cell_type": "code",
   "execution_count": 23,
   "metadata": {},
   "outputs": [],
   "source": [
    "# Calculations:\n",
    "\n",
    "# print ..."
   ]
  },
  {
   "cell_type": "markdown",
   "metadata": {},
   "source": [
    "**Q 3.8:** Use `matplotlib.pyplot` to draw the temperature profile in the wall from interior (left) to exterior (right). \n",
    "<br>Assume the interior **surface** (not room) temperature is $T_\\mathrm{si} = 20^\\circ\\mathrm{C}$ and the exterior surface temperature is $T_\\mathrm{se} = -5^\\circ\\mathrm{C}$. \n",
    "<br>Hint: Calculate the temperature drops $\\Delta T_k$ of all layers using the individual resistances and the wall resistance. Use vectorized operations. Store the results in the new dataframe column `DT`. \n",
    "<br>Store the cumulative temperature drop in a new numpy vector $T$ (not in the dataframe). The values should be negative because the transition is from the hot side to the cold side of the wall and the temperature profile decreases in this direction. Add these negative values (i.e. you are subtracting) to the interior wall surface temperature. This will give you the temperatures _after_ each layer. The first temperature in vector $T$ before the first layer, i.e. the interior surface temperature, is still missing in vector $T$. Insert the value as first element in the vector.\n",
    "<br>The position vector $x$ is constructed accordingly. Accumulate the thicknesses $d$ by determining the cumulative sum. As first element in the $x$ vector $0$ must be inserted. "
   ]
  },
  {
   "cell_type": "code",
   "execution_count": 24,
   "metadata": {},
   "outputs": [],
   "source": [
    "# Calculations: df['DT'] = ...   T = ...   x = ...\n",
    "\n",
    "# ...\n",
    "\n",
    "# ax1.plot(x,T)\n",
    "\n",
    "# ax1.set_title ...\n",
    "# ax1.set_xlabel ...\n",
    "\n",
    "# more figure decorations ...\n",
    "\n",
    "# plt.show()"
   ]
  },
  {
   "cell_type": "markdown",
   "metadata": {},
   "source": [
    "**Q 3.9:** Which temperature drop would you expect between wall surfaces and air (aka 'fluid') internally and externally for the surface resistances you have chosen? Which room temperature $T_\\mathrm{i}$ is necessary to achieve the interior wall surface temperature $T_\\mathrm{si}$ for the heat flux $q$ through the wall you determined earlier? Calculate the exterior air temperature $T_\\mathrm{e}$ accordingly."
   ]
  },
  {
   "cell_type": "code",
   "execution_count": 25,
   "metadata": {},
   "outputs": [],
   "source": [
    "# Calculations: T_i = ...    T_e = ...\n",
    "\n",
    "# print ..."
   ]
  },
  {
   "cell_type": "markdown",
   "metadata": {},
   "source": [
    "## 4. Walls with Openings"
   ]
  },
  {
   "cell_type": "markdown",
   "metadata": {},
   "source": [
    "**Q 4.1:** East (E) and west (W) wall have identical single glazed windows. Search the internet for relevant information on such windows. Choose an U-value $U_\\mathrm{win}$ and justify! This is your design value. Provide references (links) to your information sources! Explain your choice in a markdown cell."
   ]
  },
  {
   "cell_type": "code",
   "execution_count": 26,
   "metadata": {},
   "outputs": [],
   "source": [
    "# Design values: U_winE = ...\n",
    "\n",
    "# print ..."
   ]
  },
  {
   "cell_type": "markdown",
   "metadata": {},
   "source": [
    "**Q 4.2:** What are the U-values of the E and W wall? Hint: Wall construction and window are parallel transmittances including surface effects (U-values). You have to take the percentages of the areas into account."
   ]
  },
  {
   "cell_type": "code",
   "execution_count": 27,
   "metadata": {},
   "outputs": [],
   "source": [
    "# Calculations: U_E = ...    U_W = ...\n",
    "\n",
    "# print ..."
   ]
  },
  {
   "cell_type": "markdown",
   "metadata": {},
   "source": [
    "**Q 4.3:** Calculate the U-value of the north wall, accordingly. Make assumptions about the U-value of the simple wooden door. Provide references to your U-value choice for the door."
   ]
  },
  {
   "cell_type": "code",
   "execution_count": 28,
   "metadata": {},
   "outputs": [],
   "source": [
    "# Calculations: U_N = \n",
    "\n",
    "# print ..."
   ]
  },
  {
   "cell_type": "markdown",
   "metadata": {},
   "source": [
    "## 5. Roof Construction"
   ]
  },
  {
   "cell_type": "markdown",
   "metadata": {},
   "source": [
    "**Q 5.1:** To calculate the average thermal resistance $R_\\mathrm{R}$ (subscript R stands for roof) of the roof construction shown in Fig. 2.1 it can be modeled as **two layers** and **two sections** (excluding wall surface effects). **Describe in your own words** how the layers $L_\\mathrm{R1}$ (lower layer) and $L_\\mathrm{R2}$ (upper layer) look like. How would you describe the sections $S_\\mathrm{RA}$ and $S_\\mathrm{RB}$, i.e. which materials follow each other in both sections from lower layer to upper layer? Give the answer in a markdown cell. "
   ]
  },
  {
   "cell_type": "markdown",
   "metadata": {},
   "source": [
    "**Answer:** ..."
   ]
  },
  {
   "cell_type": "markdown",
   "metadata": {},
   "source": [
    "**Q 5.2:** What are the layer thicknesses $d_\\mathrm{R1}$ and $d_\\mathrm{R2}$ in meters, respectively? "
   ]
  },
  {
   "cell_type": "code",
   "execution_count": 29,
   "metadata": {},
   "outputs": [],
   "source": [
    "# Calculations: d_R1 = ...\n",
    "\n",
    "# print ..."
   ]
  },
  {
   "cell_type": "markdown",
   "metadata": {},
   "source": [
    "**Q 5.3:** What are the areal percentages $f_\\mathrm{RA}$ and $f_\\mathrm{RB}$ on the roof area $A_\\mathrm{R}$ you determined before? Hint: Consider the rafter dimensions."
   ]
  },
  {
   "cell_type": "code",
   "execution_count": 30,
   "metadata": {},
   "outputs": [],
   "source": [
    "# Calculations: f_RA = ...\n",
    "\n",
    "# print ..."
   ]
  },
  {
   "cell_type": "markdown",
   "metadata": {},
   "source": [
    "**Q 5.4:** Calculate the minimum and maximum resistances $R_\\mathrm{Rmin}$ and $R_\\mathrm{Rmax}$ as well as the average $R_\\mathrm{R}$."
   ]
  },
  {
   "cell_type": "code",
   "execution_count": 31,
   "metadata": {},
   "outputs": [],
   "source": [
    "# Calculations: R_Rmin = ...\n",
    "\n",
    "# print ..."
   ]
  },
  {
   "cell_type": "markdown",
   "metadata": {},
   "source": [
    "**Q 5.5:** What are reasonable surface resistances $R_\\mathrm{Rsi}$ and $R_\\mathrm{Rse}$ for the roof? Take approriate values from the  [**HTflux documentation**](https://www.htflux.com/en/documentation/boundary-conditions/surface-resistance-heat-transfer-coefficient/) and justify."
   ]
  },
  {
   "cell_type": "code",
   "execution_count": 32,
   "metadata": {},
   "outputs": [],
   "source": [
    "# Calculations: R_Rsi = ...\n",
    "\n",
    "# print ..."
   ]
  },
  {
   "cell_type": "markdown",
   "metadata": {},
   "source": [
    "**Q 5.6:** Calculate the total roof resistance $R_\\mathrm{RT}$ including boundary layer effects. Calculate the U-value $U_\\mathrm{R}$ of the roof."
   ]
  },
  {
   "cell_type": "code",
   "execution_count": 33,
   "metadata": {},
   "outputs": [],
   "source": [
    "# Calculations: R_RT = ...  U_R = ...\n",
    "\n",
    "# print ..."
   ]
  },
  {
   "cell_type": "markdown",
   "metadata": {
    "tags": []
   },
   "source": [
    "## 6. Concrete Slab Foundation and Floor Construction\n",
    "\n",
    "Floor construction (Subscript $\\mathrm{F}$ denotes _floor_): \n",
    "<br>The house stands on a concrete slab foundation with a thickness of $d_{F1} = 20\\,\\mathrm{cm}$. This is the first layer.\n",
    "<br>On the concrete slab is a $8\\,\\mathrm{cm}$ thick $(d_{F2})$ insulation layer of rigid foam, followed by $5\\,\\mathrm{cm}$ screed $(d_{F3})$. \n",
    "<br>On top of the screed is a 1.5 cm thick wooden floor finish $(d_{F4})$."
   ]
  },
  {
   "cell_type": "markdown",
   "metadata": {},
   "source": [
    "**Q 6.1:** Search the internet for the four thermal conductivities $\\lambda_{\\mathrm{G}i}$ of the different materials. Provide the **links** to your information!"
   ]
  },
  {
   "cell_type": "code",
   "execution_count": 34,
   "metadata": {},
   "outputs": [],
   "source": [
    "# Calculations, definitions: d_G1 = ... d_G2 = ...  ...  lam_G1 = ...  lam_G2 = ... \n",
    "\n",
    "# print ..."
   ]
  },
  {
   "cell_type": "markdown",
   "metadata": {},
   "source": [
    "**Q 6.2:** Calculate the U-value of the complete ground plate construction. Choose appropriate **surface resistances** for the floor from the [**HTflux documentation**](https://www.htflux.com/en/documentation/boundary-conditions/surface-resistance-heat-transfer-coefficient/). Explain!"
   ]
  },
  {
   "cell_type": "code",
   "execution_count": 35,
   "metadata": {},
   "outputs": [],
   "source": [
    "# Calculations: \n",
    "\n",
    "# print ..."
   ]
  },
  {
   "cell_type": "markdown",
   "metadata": {},
   "source": [
    "## 7. The Whole House"
   ]
  },
  {
   "cell_type": "markdown",
   "metadata": {},
   "source": [
    "**Q 7.1:** What is the effective U-value of the whole house? The U-values of the four walls, roof and floor have to be weighted by the respective interior surface areas relative to the total area of the whole inner building envelope (parallel transmittances). Use the previously determined areas $A_\\mathrm{N}$, $A_\\mathrm{E}$, $A_\\mathrm{S}$, $A_\\mathrm{W}$, $A_\\mathrm{R}$, $A_\\mathrm{F}$ together with the associated U-values $U_\\mathrm{N}$, $U_\\mathrm{E}$, $U_\\mathrm{S}$, $U_\\mathrm{W}$, $U_\\mathrm{R}$, $U_\\mathrm{F}$ of the building elements."
   ]
  },
  {
   "cell_type": "code",
   "execution_count": 36,
   "metadata": {},
   "outputs": [],
   "source": [
    "# Calculations: U = \n",
    "\n",
    "# print ..."
   ]
  },
  {
   "cell_type": "markdown",
   "metadata": {},
   "source": [
    "**Q 7.2:** How much heat energy would the house lose over the course of a year with an indoor temperature $T_\\mathrm{i}  = +20^\\circ\\mathrm{C}$ and an outdoor temperature $T_\\mathrm{e}  = +5^\\circ\\mathrm{C}$ ? Provide the results in the two units $\\mathrm{kJ/year}$ and $\\mathrm{kWh/year}$."
   ]
  },
  {
   "cell_type": "code",
   "execution_count": 37,
   "metadata": {},
   "outputs": [],
   "source": [
    "# Calculations: P = ...\n",
    "\n",
    "# print ..."
   ]
  },
  {
   "cell_type": "markdown",
   "metadata": {},
   "source": [
    "## 8. Improvements"
   ]
  },
  {
   "cell_type": "markdown",
   "metadata": {},
   "source": [
    "**Q 8.1:** Replace the windows with double glazing and choose a better front door. What would be the improved U-value $U_2$ for the whole house? By what factor $r$ does this reduce the heat loss? How do you assess the effect? Is it satisfying? Do you have other suggestions?"
   ]
  },
  {
   "cell_type": "code",
   "execution_count": null,
   "metadata": {},
   "outputs": [],
   "source": []
  }
 ],
 "metadata": {
  "kernelspec": {
   "display_name": "Python 3 (ipykernel)",
   "language": "python",
   "name": "python3"
  },
  "language_info": {
   "codemirror_mode": {
    "name": "ipython",
    "version": 3
   },
   "file_extension": ".py",
   "mimetype": "text/x-python",
   "name": "python",
   "nbconvert_exporter": "python",
   "pygments_lexer": "ipython3",
   "version": "3.9.7"
  }
 },
 "nbformat": 4,
 "nbformat_minor": 4
}
