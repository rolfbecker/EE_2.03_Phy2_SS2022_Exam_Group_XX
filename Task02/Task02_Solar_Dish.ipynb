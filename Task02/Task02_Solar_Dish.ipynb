{
 "cells": [
  {
   "cell_type": "markdown",
   "metadata": {
    "tags": []
   },
   "source": [
    "# Task 02: Solar Dish with Stirling Engine"
   ]
  },
  {
   "cell_type": "markdown",
   "metadata": {},
   "source": [
    "(Author: Rolf Becker, Date: 2022-07-21, License: CC-BY-SA-4.0)"
   ]
  },
  {
   "cell_type": "markdown",
   "metadata": {},
   "source": [
    "## Introduction\n",
    "\n",
    "**Concentrated Solar Power**\n",
    "<br>\n",
    "The principle of concentrated solar power (CSP) is used in solar thermal power plants. Incoming irradiance is concentrated by mirrors and focused on a thermal collector, where a medium is heated. The most common approach is to use parabolic troughs heating up collector pipes in the focal line of the troughs. The collector pipes are filled with a heat transfer fluid transporting the thermal energy to a heat engine (e.g. a steam turbine) connected to an electrical generator. \n",
    "\n",
    "Another way - for several reasons less common - is the use of a parabolic mirror (aka “dish”) focusing on the hot end of a Stirling engine. \n",
    "<br>**Your tasks:**\n",
    "\n",
    "1. Analyse a specified Stirling engine.\n",
    "1. Find an appropriate location with suficient mean irradiance in your home country.\n",
    "1. Dimension an appropriate parabolic mirror to collect the necessary thermal input power.\n",
    "\n",
    "The hot end of the engine is installed in the focus of this solar concentrator. The system is mounted on a solar tracker such that a direct sun ray is normal to the center of the dish. Thus the direct normal irradiance and partly the circumsolar diffuse radiation are the major irradiance components for the system."
   ]
  },
  {
   "cell_type": "markdown",
   "metadata": {},
   "source": [
    "\n",
    "<img src=\"./images/600px-Dish-stirling-at-odeillo.jpg\" width=\"400\">\n",
    "\n",
    "_Fig.1: 10 kW Dish-Stirling system in Font-Romeu-Odeillo, France._\n",
    "<br>(Author: Björn Appel, Date: 2005-09-20, License: CC-BY-SA-2.5, \n",
    "<br>Source: https://de.wikipedia.org/wiki/Solar-Stirling)\n"
   ]
  },
  {
   "cell_type": "markdown",
   "metadata": {},
   "source": [
    "## 0. Preparation\n",
    "\n",
    "**Q 0.1:** A similar task for a Physics 2 project report was set in 2021. You find further information on [**teawiki**](https://teawiki.net/doku.php?id=solar_dish:start).<br>\n",
    "**Read it!** It provides some **more background information on Stirling engines** mounted to solar dishes. "
   ]
  },
  {
   "cell_type": "markdown",
   "metadata": {},
   "source": [
    "**Assumptions / Definitions:**\n",
    "\n",
    "* We use the following form of the 1st law of thermodynaics: $\\Delta U = Q + W$\n",
    "* The internal energy $U$ can be increased ($\\Delta U$ positive) by adding heat $Q$ to or doing work $W$ on the system.  \n",
    "* Heating up means positive $Q$ (addition of heat), cooling down means negative $Q$ (extraction of heat).\n",
    "* The work done on the system is counted as positive: $W > 0$. The work done by the system is counted negative: $W < 0$.\n",
    "* The ideal gas law is the state equation describing the system sufficiently well: $pV = nRT$\n",
    "* The state transitions between the states (therodynamic processes) are quasi-static.\n",
    "* We assume an ideal Stirling engine.\n"
   ]
  },
  {
   "cell_type": "code",
   "execution_count": 1,
   "metadata": {},
   "outputs": [
    {
     "name": "stdout",
     "output_type": "stream",
     "text": [
      "Molar Gas Constant: R = 8.314 J/(K*mol)\n"
     ]
    }
   ],
   "source": [
    "import numpy as np\n",
    "import pandas as pd\n",
    "import matplotlib.pyplot as plt\n",
    "from scipy.constants import R\n",
    "print(f\"Molar Gas Constant: {R = :.3f} J/(K*mol)\")"
   ]
  },
  {
   "cell_type": "markdown",
   "metadata": {},
   "source": [
    "### Construction of Needed Data Structures to be Filled\n",
    "\n",
    "Your task is to **fill the state and process tables completely!** All calculations have to be **based on these tables!**  "
   ]
  },
  {
   "cell_type": "code",
   "execution_count": 2,
   "metadata": {},
   "outputs": [
    {
     "data": {
      "text/html": [
       "<div>\n",
       "<style scoped>\n",
       "    .dataframe tbody tr th:only-of-type {\n",
       "        vertical-align: middle;\n",
       "    }\n",
       "\n",
       "    .dataframe tbody tr th {\n",
       "        vertical-align: top;\n",
       "    }\n",
       "\n",
       "    .dataframe thead th {\n",
       "        text-align: right;\n",
       "    }\n",
       "</style>\n",
       "<table border=\"1\" class=\"dataframe\">\n",
       "  <thead>\n",
       "    <tr style=\"text-align: right;\">\n",
       "      <th></th>\n",
       "      <th>n/mol</th>\n",
       "      <th>p/Pa</th>\n",
       "      <th>V/m3</th>\n",
       "      <th>T/K</th>\n",
       "    </tr>\n",
       "    <tr>\n",
       "      <th>ID</th>\n",
       "      <th></th>\n",
       "      <th></th>\n",
       "      <th></th>\n",
       "      <th></th>\n",
       "    </tr>\n",
       "  </thead>\n",
       "  <tbody>\n",
       "    <tr>\n",
       "      <th>A</th>\n",
       "      <td>0.0</td>\n",
       "      <td>0.0</td>\n",
       "      <td>0.0</td>\n",
       "      <td>0.0</td>\n",
       "    </tr>\n",
       "    <tr>\n",
       "      <th>B</th>\n",
       "      <td>0.0</td>\n",
       "      <td>0.0</td>\n",
       "      <td>0.0</td>\n",
       "      <td>0.0</td>\n",
       "    </tr>\n",
       "    <tr>\n",
       "      <th>C</th>\n",
       "      <td>0.0</td>\n",
       "      <td>0.0</td>\n",
       "      <td>0.0</td>\n",
       "      <td>0.0</td>\n",
       "    </tr>\n",
       "    <tr>\n",
       "      <th>D</th>\n",
       "      <td>0.0</td>\n",
       "      <td>0.0</td>\n",
       "      <td>0.0</td>\n",
       "      <td>0.0</td>\n",
       "    </tr>\n",
       "  </tbody>\n",
       "</table>\n",
       "</div>"
      ],
      "text/plain": [
       "    n/mol  p/Pa  V/m3  T/K\n",
       "ID                        \n",
       "A     0.0   0.0   0.0  0.0\n",
       "B     0.0   0.0   0.0  0.0\n",
       "C     0.0   0.0   0.0  0.0\n",
       "D     0.0   0.0   0.0  0.0"
      ]
     },
     "execution_count": 2,
     "metadata": {},
     "output_type": "execute_result"
    }
   ],
   "source": [
    "# Create pandas dataframe for the thermodynamic states to be filled. Values initialized with 0.\n",
    "states = pd.DataFrame(\n",
    "    {\n",
    "        \"ID\" : [\"A\", \"B\", \"C\", \"D\"] , \n",
    "        \"n/mol\" : np.zeros(4) , \n",
    "        \"p/Pa\"  : np.zeros(4) , \n",
    "        \"V/m3\"  : np.zeros(4) , \n",
    "        \"T/K\"   : np.zeros(4)}\n",
    ")\n",
    "states = states.set_index(\"ID\") \n",
    "states.head(5)"
   ]
  },
  {
   "cell_type": "code",
   "execution_count": 3,
   "metadata": {},
   "outputs": [
    {
     "data": {
      "text/html": [
       "<div>\n",
       "<style scoped>\n",
       "    .dataframe tbody tr th:only-of-type {\n",
       "        vertical-align: middle;\n",
       "    }\n",
       "\n",
       "    .dataframe tbody tr th {\n",
       "        vertical-align: top;\n",
       "    }\n",
       "\n",
       "    .dataframe thead th {\n",
       "        text-align: right;\n",
       "    }\n",
       "</style>\n",
       "<table border=\"1\" class=\"dataframe\">\n",
       "  <thead>\n",
       "    <tr style=\"text-align: right;\">\n",
       "      <th></th>\n",
       "      <th>transition</th>\n",
       "      <th>type</th>\n",
       "      <th>DU/J</th>\n",
       "      <th>Q/J</th>\n",
       "      <th>W/J</th>\n",
       "      <th>DT/K</th>\n",
       "    </tr>\n",
       "    <tr>\n",
       "      <th>ID</th>\n",
       "      <th></th>\n",
       "      <th></th>\n",
       "      <th></th>\n",
       "      <th></th>\n",
       "      <th></th>\n",
       "      <th></th>\n",
       "    </tr>\n",
       "  </thead>\n",
       "  <tbody>\n",
       "    <tr>\n",
       "      <th>ab</th>\n",
       "      <td>A-&gt;B</td>\n",
       "      <td>iso...</td>\n",
       "      <td>0.0</td>\n",
       "      <td>0.0</td>\n",
       "      <td>0.0</td>\n",
       "      <td>0.0</td>\n",
       "    </tr>\n",
       "    <tr>\n",
       "      <th>bc</th>\n",
       "      <td>B-&gt;C</td>\n",
       "      <td>iso...</td>\n",
       "      <td>0.0</td>\n",
       "      <td>0.0</td>\n",
       "      <td>0.0</td>\n",
       "      <td>0.0</td>\n",
       "    </tr>\n",
       "    <tr>\n",
       "      <th>cd</th>\n",
       "      <td>C-&gt;D</td>\n",
       "      <td>iso...</td>\n",
       "      <td>0.0</td>\n",
       "      <td>0.0</td>\n",
       "      <td>0.0</td>\n",
       "      <td>0.0</td>\n",
       "    </tr>\n",
       "    <tr>\n",
       "      <th>da</th>\n",
       "      <td>D-&gt;A</td>\n",
       "      <td>iso...</td>\n",
       "      <td>0.0</td>\n",
       "      <td>0.0</td>\n",
       "      <td>0.0</td>\n",
       "      <td>0.0</td>\n",
       "    </tr>\n",
       "  </tbody>\n",
       "</table>\n",
       "</div>"
      ],
      "text/plain": [
       "   transition    type  DU/J  Q/J  W/J  DT/K\n",
       "ID                                         \n",
       "ab       A->B  iso...   0.0  0.0  0.0   0.0\n",
       "bc       B->C  iso...   0.0  0.0  0.0   0.0\n",
       "cd       C->D  iso...   0.0  0.0  0.0   0.0\n",
       "da       D->A  iso...   0.0  0.0  0.0   0.0"
      ]
     },
     "execution_count": 3,
     "metadata": {},
     "output_type": "execute_result"
    }
   ],
   "source": [
    "# Create pandas dataframe for the thermodynamic processes to be filled. Values initialized with 0.\n",
    "procs = pd.DataFrame(\n",
    "    {\n",
    "        \"ID\" : [\"ab\",\"bc\",\"cd\",\"da\"],\n",
    "        \"transition\" : [\"A->B\", \"B->C\", \"C->D\", \"D->A\"],\n",
    "        \"type\" : [\"iso...\", \"iso...\", \"iso...\", \"iso...\"], \n",
    "        \"DU/J\" : np.zeros(4) , \n",
    "        \"Q/J\"  : np.zeros(4) , \n",
    "        \"W/J\"  : np.zeros(4) , \n",
    "        \"DT/K\" : np.zeros(4)}\n",
    ")\n",
    "procs = procs.set_index(\"ID\") \n",
    "procs.head(5)"
   ]
  },
  {
   "cell_type": "markdown",
   "metadata": {},
   "source": [
    "### Mini-Tutorial: How to Access the Data Frames\n",
    "\n",
    "The following code cells show examples of getting (reading of retrieving) and setting (writing or assigning) data from and to the data frames. This should help you to solve the tasks appropriately. "
   ]
  },
  {
   "cell_type": "code",
   "execution_count": 4,
   "metadata": {},
   "outputs": [
    {
     "data": {
      "text/plain": [
       "n/mol    0.0\n",
       "p/Pa     0.0\n",
       "V/m3     0.0\n",
       "T/K      0.0\n",
       "Name: A, dtype: float64"
      ]
     },
     "execution_count": 4,
     "metadata": {},
     "output_type": "execute_result"
    }
   ],
   "source": [
    "# get values row wise (row = state)\n",
    "states.loc[\"A\"]"
   ]
  },
  {
   "cell_type": "code",
   "execution_count": 5,
   "metadata": {},
   "outputs": [
    {
     "data": {
      "text/plain": [
       "ID\n",
       "ab    0.0\n",
       "bc    0.0\n",
       "cd    0.0\n",
       "da    0.0\n",
       "Name: DU/J, dtype: float64"
      ]
     },
     "execution_count": 5,
     "metadata": {},
     "output_type": "execute_result"
    }
   ],
   "source": [
    "# get values column wise (column = variable)\n",
    "procs[\"DU/J\"]"
   ]
  },
  {
   "cell_type": "code",
   "execution_count": 6,
   "metadata": {
    "tags": []
   },
   "outputs": [
    {
     "data": {
      "text/plain": [
       "0.0"
      ]
     },
     "execution_count": 6,
     "metadata": {},
     "output_type": "execute_result"
    }
   ],
   "source": [
    "# get single value, extract series \"DU/J\" (column) first, then extract \"bc\" from the series.\n",
    "procs[\"DU/J\"][\"bc\"]"
   ]
  },
  {
   "cell_type": "code",
   "execution_count": 7,
   "metadata": {},
   "outputs": [
    {
     "data": {
      "text/plain": [
       "0.0"
      ]
     },
     "execution_count": 7,
     "metadata": {},
     "output_type": "execute_result"
    }
   ],
   "source": [
    "# get single value, row first (.loc)\n",
    "states.loc[\"B\", \"T/K\"] # indexes: row first, column second"
   ]
  },
  {
   "cell_type": "code",
   "execution_count": 8,
   "metadata": {},
   "outputs": [
    {
     "data": {
      "text/plain": [
       "'C->D'"
      ]
     },
     "execution_count": 8,
     "metadata": {},
     "output_type": "execute_result"
    }
   ],
   "source": [
    "# get single value, named row index first (.loc)\n",
    "procs.loc[\"cd\", \"transition\"] # indexes: row first, column second"
   ]
  },
  {
   "cell_type": "code",
   "execution_count": 9,
   "metadata": {
    "tags": []
   },
   "outputs": [
    {
     "data": {
      "text/plain": [
       "'C->D'"
      ]
     },
     "execution_count": 9,
     "metadata": {},
     "output_type": "execute_result"
    }
   ],
   "source": [
    "# get single value, using integer indexing  (.iloc), first index is row number, second index is column number\n",
    "procs.iloc[2, 0] # indexes: row first, column second"
   ]
  },
  {
   "cell_type": "code",
   "execution_count": 10,
   "metadata": {},
   "outputs": [
    {
     "data": {
      "text/html": [
       "<div>\n",
       "<style scoped>\n",
       "    .dataframe tbody tr th:only-of-type {\n",
       "        vertical-align: middle;\n",
       "    }\n",
       "\n",
       "    .dataframe tbody tr th {\n",
       "        vertical-align: top;\n",
       "    }\n",
       "\n",
       "    .dataframe thead th {\n",
       "        text-align: right;\n",
       "    }\n",
       "</style>\n",
       "<table border=\"1\" class=\"dataframe\">\n",
       "  <thead>\n",
       "    <tr style=\"text-align: right;\">\n",
       "      <th></th>\n",
       "      <th>n/mol</th>\n",
       "      <th>p/Pa</th>\n",
       "      <th>V/m3</th>\n",
       "      <th>T/K</th>\n",
       "    </tr>\n",
       "    <tr>\n",
       "      <th>ID</th>\n",
       "      <th></th>\n",
       "      <th></th>\n",
       "      <th></th>\n",
       "      <th></th>\n",
       "    </tr>\n",
       "  </thead>\n",
       "  <tbody>\n",
       "    <tr>\n",
       "      <th>A</th>\n",
       "      <td>0.0</td>\n",
       "      <td>-888.0</td>\n",
       "      <td>0.0</td>\n",
       "      <td>0.0</td>\n",
       "    </tr>\n",
       "    <tr>\n",
       "      <th>B</th>\n",
       "      <td>0.0</td>\n",
       "      <td>0.0</td>\n",
       "      <td>0.0</td>\n",
       "      <td>0.0</td>\n",
       "    </tr>\n",
       "    <tr>\n",
       "      <th>C</th>\n",
       "      <td>0.0</td>\n",
       "      <td>0.0</td>\n",
       "      <td>0.0</td>\n",
       "      <td>0.0</td>\n",
       "    </tr>\n",
       "    <tr>\n",
       "      <th>D</th>\n",
       "      <td>0.0</td>\n",
       "      <td>0.0</td>\n",
       "      <td>0.0</td>\n",
       "      <td>0.0</td>\n",
       "    </tr>\n",
       "  </tbody>\n",
       "</table>\n",
       "</div>"
      ],
      "text/plain": [
       "    n/mol   p/Pa  V/m3  T/K\n",
       "ID                         \n",
       "A     0.0 -888.0   0.0  0.0\n",
       "B     0.0    0.0   0.0  0.0\n",
       "C     0.0    0.0   0.0  0.0\n",
       "D     0.0    0.0   0.0  0.0"
      ]
     },
     "execution_count": 10,
     "metadata": {},
     "output_type": "execute_result"
    }
   ],
   "source": [
    "# set (assign) a single value\n",
    "states.loc[\"A\", \"p/Pa\"] = -888\n",
    "states"
   ]
  },
  {
   "cell_type": "code",
   "execution_count": 11,
   "metadata": {},
   "outputs": [
    {
     "data": {
      "text/html": [
       "<div>\n",
       "<style scoped>\n",
       "    .dataframe tbody tr th:only-of-type {\n",
       "        vertical-align: middle;\n",
       "    }\n",
       "\n",
       "    .dataframe tbody tr th {\n",
       "        vertical-align: top;\n",
       "    }\n",
       "\n",
       "    .dataframe thead th {\n",
       "        text-align: right;\n",
       "    }\n",
       "</style>\n",
       "<table border=\"1\" class=\"dataframe\">\n",
       "  <thead>\n",
       "    <tr style=\"text-align: right;\">\n",
       "      <th></th>\n",
       "      <th>n/mol</th>\n",
       "      <th>p/Pa</th>\n",
       "      <th>V/m3</th>\n",
       "      <th>T/K</th>\n",
       "    </tr>\n",
       "    <tr>\n",
       "      <th>ID</th>\n",
       "      <th></th>\n",
       "      <th></th>\n",
       "      <th></th>\n",
       "      <th></th>\n",
       "    </tr>\n",
       "  </thead>\n",
       "  <tbody>\n",
       "    <tr>\n",
       "      <th>A</th>\n",
       "      <td>0.0</td>\n",
       "      <td>-888.0</td>\n",
       "      <td>0.0</td>\n",
       "      <td>0.0</td>\n",
       "    </tr>\n",
       "    <tr>\n",
       "      <th>B</th>\n",
       "      <td>0.0</td>\n",
       "      <td>0.0</td>\n",
       "      <td>-777.0</td>\n",
       "      <td>-888.0</td>\n",
       "    </tr>\n",
       "    <tr>\n",
       "      <th>C</th>\n",
       "      <td>0.0</td>\n",
       "      <td>0.0</td>\n",
       "      <td>0.0</td>\n",
       "      <td>0.0</td>\n",
       "    </tr>\n",
       "    <tr>\n",
       "      <th>D</th>\n",
       "      <td>0.0</td>\n",
       "      <td>0.0</td>\n",
       "      <td>0.0</td>\n",
       "      <td>0.0</td>\n",
       "    </tr>\n",
       "  </tbody>\n",
       "</table>\n",
       "</div>"
      ],
      "text/plain": [
       "    n/mol   p/Pa   V/m3    T/K\n",
       "ID                            \n",
       "A     0.0 -888.0    0.0    0.0\n",
       "B     0.0    0.0 -777.0 -888.0\n",
       "C     0.0    0.0    0.0    0.0\n",
       "D     0.0    0.0    0.0    0.0"
      ]
     },
     "execution_count": 11,
     "metadata": {},
     "output_type": "execute_result"
    }
   ],
   "source": [
    "# set (assign) a set of values for a given list of columns\n",
    "states.loc[\"B\", [\"T/K\",\"V/m3\"]] = [-888, -777]\n",
    "states"
   ]
  },
  {
   "cell_type": "code",
   "execution_count": 12,
   "metadata": {},
   "outputs": [
    {
     "data": {
      "text/html": [
       "<div>\n",
       "<style scoped>\n",
       "    .dataframe tbody tr th:only-of-type {\n",
       "        vertical-align: middle;\n",
       "    }\n",
       "\n",
       "    .dataframe tbody tr th {\n",
       "        vertical-align: top;\n",
       "    }\n",
       "\n",
       "    .dataframe thead th {\n",
       "        text-align: right;\n",
       "    }\n",
       "</style>\n",
       "<table border=\"1\" class=\"dataframe\">\n",
       "  <thead>\n",
       "    <tr style=\"text-align: right;\">\n",
       "      <th></th>\n",
       "      <th>n/mol</th>\n",
       "      <th>p/Pa</th>\n",
       "      <th>V/m3</th>\n",
       "      <th>T/K</th>\n",
       "    </tr>\n",
       "    <tr>\n",
       "      <th>ID</th>\n",
       "      <th></th>\n",
       "      <th></th>\n",
       "      <th></th>\n",
       "      <th></th>\n",
       "    </tr>\n",
       "  </thead>\n",
       "  <tbody>\n",
       "    <tr>\n",
       "      <th>A</th>\n",
       "      <td>0.0</td>\n",
       "      <td>-888.0</td>\n",
       "      <td>0.0</td>\n",
       "      <td>0.0</td>\n",
       "    </tr>\n",
       "    <tr>\n",
       "      <th>B</th>\n",
       "      <td>0.0</td>\n",
       "      <td>0.0</td>\n",
       "      <td>-777.0</td>\n",
       "      <td>-888.0</td>\n",
       "    </tr>\n",
       "    <tr>\n",
       "      <th>C</th>\n",
       "      <td>-999.0</td>\n",
       "      <td>-999.0</td>\n",
       "      <td>-999.0</td>\n",
       "      <td>-999.0</td>\n",
       "    </tr>\n",
       "    <tr>\n",
       "      <th>D</th>\n",
       "      <td>0.0</td>\n",
       "      <td>0.0</td>\n",
       "      <td>0.0</td>\n",
       "      <td>0.0</td>\n",
       "    </tr>\n",
       "  </tbody>\n",
       "</table>\n",
       "</div>"
      ],
      "text/plain": [
       "    n/mol   p/Pa   V/m3    T/K\n",
       "ID                            \n",
       "A     0.0 -888.0    0.0    0.0\n",
       "B     0.0    0.0 -777.0 -888.0\n",
       "C  -999.0 -999.0 -999.0 -999.0\n",
       "D     0.0    0.0    0.0    0.0"
      ]
     },
     "execution_count": 12,
     "metadata": {},
     "output_type": "execute_result"
    }
   ],
   "source": [
    "# set (assign) a set of values for a full row at once\n",
    "states.loc[\"C\"] = [-999, -999, -999, -999]\n",
    "states"
   ]
  },
  {
   "cell_type": "code",
   "execution_count": 13,
   "metadata": {},
   "outputs": [
    {
     "data": {
      "text/html": [
       "<div>\n",
       "<style scoped>\n",
       "    .dataframe tbody tr th:only-of-type {\n",
       "        vertical-align: middle;\n",
       "    }\n",
       "\n",
       "    .dataframe tbody tr th {\n",
       "        vertical-align: top;\n",
       "    }\n",
       "\n",
       "    .dataframe thead th {\n",
       "        text-align: right;\n",
       "    }\n",
       "</style>\n",
       "<table border=\"1\" class=\"dataframe\">\n",
       "  <thead>\n",
       "    <tr style=\"text-align: right;\">\n",
       "      <th></th>\n",
       "      <th>n/mol</th>\n",
       "      <th>p/Pa</th>\n",
       "      <th>V/m3</th>\n",
       "      <th>T/K</th>\n",
       "    </tr>\n",
       "    <tr>\n",
       "      <th>ID</th>\n",
       "      <th></th>\n",
       "      <th></th>\n",
       "      <th></th>\n",
       "      <th></th>\n",
       "    </tr>\n",
       "  </thead>\n",
       "  <tbody>\n",
       "    <tr>\n",
       "      <th>A</th>\n",
       "      <td>-111.1</td>\n",
       "      <td>-111.1</td>\n",
       "      <td>-111.1</td>\n",
       "      <td>-111.1</td>\n",
       "    </tr>\n",
       "    <tr>\n",
       "      <th>B</th>\n",
       "      <td>-111.1</td>\n",
       "      <td>-111.1</td>\n",
       "      <td>-111.1</td>\n",
       "      <td>-111.1</td>\n",
       "    </tr>\n",
       "    <tr>\n",
       "      <th>C</th>\n",
       "      <td>-111.1</td>\n",
       "      <td>-111.1</td>\n",
       "      <td>-111.1</td>\n",
       "      <td>-111.1</td>\n",
       "    </tr>\n",
       "    <tr>\n",
       "      <th>D</th>\n",
       "      <td>-111.1</td>\n",
       "      <td>-111.1</td>\n",
       "      <td>-111.1</td>\n",
       "      <td>-111.1</td>\n",
       "    </tr>\n",
       "  </tbody>\n",
       "</table>\n",
       "</div>"
      ],
      "text/plain": [
       "    n/mol   p/Pa   V/m3    T/K\n",
       "ID                            \n",
       "A  -111.1 -111.1 -111.1 -111.1\n",
       "B  -111.1 -111.1 -111.1 -111.1\n",
       "C  -111.1 -111.1 -111.1 -111.1\n",
       "D  -111.1 -111.1 -111.1 -111.1"
      ]
     },
     "execution_count": 13,
     "metadata": {},
     "output_type": "execute_result"
    }
   ],
   "source": [
    "# set all values of the whole data frame\n",
    "states.loc[:,:] = -111.1\n",
    "states"
   ]
  },
  {
   "cell_type": "code",
   "execution_count": 14,
   "metadata": {},
   "outputs": [
    {
     "data": {
      "text/html": [
       "<div>\n",
       "<style scoped>\n",
       "    .dataframe tbody tr th:only-of-type {\n",
       "        vertical-align: middle;\n",
       "    }\n",
       "\n",
       "    .dataframe tbody tr th {\n",
       "        vertical-align: top;\n",
       "    }\n",
       "\n",
       "    .dataframe thead th {\n",
       "        text-align: right;\n",
       "    }\n",
       "</style>\n",
       "<table border=\"1\" class=\"dataframe\">\n",
       "  <thead>\n",
       "    <tr style=\"text-align: right;\">\n",
       "      <th></th>\n",
       "      <th>n/mol</th>\n",
       "      <th>p/Pa</th>\n",
       "      <th>V/m3</th>\n",
       "      <th>T/K</th>\n",
       "    </tr>\n",
       "    <tr>\n",
       "      <th>ID</th>\n",
       "      <th></th>\n",
       "      <th></th>\n",
       "      <th></th>\n",
       "      <th></th>\n",
       "    </tr>\n",
       "  </thead>\n",
       "  <tbody>\n",
       "    <tr>\n",
       "      <th>A</th>\n",
       "      <td>0.0</td>\n",
       "      <td>0.0</td>\n",
       "      <td>0.0</td>\n",
       "      <td>0.0</td>\n",
       "    </tr>\n",
       "    <tr>\n",
       "      <th>B</th>\n",
       "      <td>-111.1</td>\n",
       "      <td>-111.1</td>\n",
       "      <td>-111.1</td>\n",
       "      <td>-111.1</td>\n",
       "    </tr>\n",
       "    <tr>\n",
       "      <th>C</th>\n",
       "      <td>-111.1</td>\n",
       "      <td>-111.1</td>\n",
       "      <td>-111.1</td>\n",
       "      <td>-111.1</td>\n",
       "    </tr>\n",
       "    <tr>\n",
       "      <th>D</th>\n",
       "      <td>-111.1</td>\n",
       "      <td>-111.1</td>\n",
       "      <td>-111.1</td>\n",
       "      <td>-111.1</td>\n",
       "    </tr>\n",
       "  </tbody>\n",
       "</table>\n",
       "</div>"
      ],
      "text/plain": [
       "    n/mol   p/Pa   V/m3    T/K\n",
       "ID                            \n",
       "A     0.0    0.0    0.0    0.0\n",
       "B  -111.1 -111.1 -111.1 -111.1\n",
       "C  -111.1 -111.1 -111.1 -111.1\n",
       "D  -111.1 -111.1 -111.1 -111.1"
      ]
     },
     "execution_count": 14,
     "metadata": {},
     "output_type": "execute_result"
    }
   ],
   "source": [
    "# setting (assigning) a set of values at once\n",
    "states.loc[\"A\"] = [0, 0, 0, 0]\n",
    "states"
   ]
  },
  {
   "cell_type": "code",
   "execution_count": 15,
   "metadata": {},
   "outputs": [
    {
     "data": {
      "text/html": [
       "<div>\n",
       "<style scoped>\n",
       "    .dataframe tbody tr th:only-of-type {\n",
       "        vertical-align: middle;\n",
       "    }\n",
       "\n",
       "    .dataframe tbody tr th {\n",
       "        vertical-align: top;\n",
       "    }\n",
       "\n",
       "    .dataframe thead th {\n",
       "        text-align: right;\n",
       "    }\n",
       "</style>\n",
       "<table border=\"1\" class=\"dataframe\">\n",
       "  <thead>\n",
       "    <tr style=\"text-align: right;\">\n",
       "      <th></th>\n",
       "      <th>n/mol</th>\n",
       "      <th>p/Pa</th>\n",
       "      <th>V/m3</th>\n",
       "      <th>T/K</th>\n",
       "    </tr>\n",
       "    <tr>\n",
       "      <th>ID</th>\n",
       "      <th></th>\n",
       "      <th></th>\n",
       "      <th></th>\n",
       "      <th></th>\n",
       "    </tr>\n",
       "  </thead>\n",
       "  <tbody>\n",
       "    <tr>\n",
       "      <th>A</th>\n",
       "      <td>0.0</td>\n",
       "      <td>0.0</td>\n",
       "      <td>0.0</td>\n",
       "      <td>0.0</td>\n",
       "    </tr>\n",
       "    <tr>\n",
       "      <th>B</th>\n",
       "      <td>0.0</td>\n",
       "      <td>0.0</td>\n",
       "      <td>0.0</td>\n",
       "      <td>0.0</td>\n",
       "    </tr>\n",
       "    <tr>\n",
       "      <th>C</th>\n",
       "      <td>0.0</td>\n",
       "      <td>0.0</td>\n",
       "      <td>0.0</td>\n",
       "      <td>0.0</td>\n",
       "    </tr>\n",
       "    <tr>\n",
       "      <th>D</th>\n",
       "      <td>0.0</td>\n",
       "      <td>0.0</td>\n",
       "      <td>0.0</td>\n",
       "      <td>0.0</td>\n",
       "    </tr>\n",
       "  </tbody>\n",
       "</table>\n",
       "</div>"
      ],
      "text/plain": [
       "    n/mol  p/Pa  V/m3  T/K\n",
       "ID                        \n",
       "A     0.0   0.0   0.0  0.0\n",
       "B     0.0   0.0   0.0  0.0\n",
       "C     0.0   0.0   0.0  0.0\n",
       "D     0.0   0.0   0.0  0.0"
      ]
     },
     "execution_count": 15,
     "metadata": {},
     "output_type": "execute_result"
    }
   ],
   "source": [
    "# set all values of the whole data frame\n",
    "states.loc[:,:] = 0.0\n",
    "states"
   ]
  },
  {
   "cell_type": "code",
   "execution_count": 16,
   "metadata": {},
   "outputs": [
    {
     "data": {
      "text/html": [
       "<div>\n",
       "<style scoped>\n",
       "    .dataframe tbody tr th:only-of-type {\n",
       "        vertical-align: middle;\n",
       "    }\n",
       "\n",
       "    .dataframe tbody tr th {\n",
       "        vertical-align: top;\n",
       "    }\n",
       "\n",
       "    .dataframe thead th {\n",
       "        text-align: right;\n",
       "    }\n",
       "</style>\n",
       "<table border=\"1\" class=\"dataframe\">\n",
       "  <thead>\n",
       "    <tr style=\"text-align: right;\">\n",
       "      <th></th>\n",
       "      <th>transition</th>\n",
       "      <th>type</th>\n",
       "      <th>DU/J</th>\n",
       "      <th>Q/J</th>\n",
       "      <th>W/J</th>\n",
       "      <th>DT/K</th>\n",
       "    </tr>\n",
       "    <tr>\n",
       "      <th>ID</th>\n",
       "      <th></th>\n",
       "      <th></th>\n",
       "      <th></th>\n",
       "      <th></th>\n",
       "      <th></th>\n",
       "      <th></th>\n",
       "    </tr>\n",
       "  </thead>\n",
       "  <tbody>\n",
       "    <tr>\n",
       "      <th>ab</th>\n",
       "      <td>A-&gt;B</td>\n",
       "      <td>I don't know ab</td>\n",
       "      <td>-111.1</td>\n",
       "      <td>222.2</td>\n",
       "      <td>-333.3</td>\n",
       "      <td>444.4</td>\n",
       "    </tr>\n",
       "    <tr>\n",
       "      <th>bc</th>\n",
       "      <td>B-&gt;C</td>\n",
       "      <td>iso...</td>\n",
       "      <td>0.0</td>\n",
       "      <td>0.0</td>\n",
       "      <td>0.0</td>\n",
       "      <td>0.0</td>\n",
       "    </tr>\n",
       "    <tr>\n",
       "      <th>cd</th>\n",
       "      <td>C-&gt;D</td>\n",
       "      <td>iso...</td>\n",
       "      <td>0.0</td>\n",
       "      <td>0.0</td>\n",
       "      <td>0.0</td>\n",
       "      <td>0.0</td>\n",
       "    </tr>\n",
       "    <tr>\n",
       "      <th>da</th>\n",
       "      <td>D-&gt;A</td>\n",
       "      <td>iso...</td>\n",
       "      <td>0.0</td>\n",
       "      <td>0.0</td>\n",
       "      <td>0.0</td>\n",
       "      <td>0.0</td>\n",
       "    </tr>\n",
       "  </tbody>\n",
       "</table>\n",
       "</div>"
      ],
      "text/plain": [
       "   transition             type   DU/J    Q/J    W/J   DT/K\n",
       "ID                                                        \n",
       "ab       A->B  I don't know ab -111.1  222.2 -333.3  444.4\n",
       "bc       B->C           iso...    0.0    0.0    0.0    0.0\n",
       "cd       C->D           iso...    0.0    0.0    0.0    0.0\n",
       "da       D->A           iso...    0.0    0.0    0.0    0.0"
      ]
     },
     "execution_count": 16,
     "metadata": {},
     "output_type": "execute_result"
    }
   ],
   "source": [
    "# set a set of values in data frame procs\n",
    "procs.loc[\"ab\",[\"type\",\"DU/J\",\"Q/J\",\"W/J\",\"DT/K\"]] = [\"I don't know ab\", -111.1, +222.2, -333.3, +444.4]\n",
    "procs.head(5)"
   ]
  },
  {
   "cell_type": "code",
   "execution_count": 17,
   "metadata": {},
   "outputs": [
    {
     "data": {
      "text/html": [
       "<div>\n",
       "<style scoped>\n",
       "    .dataframe tbody tr th:only-of-type {\n",
       "        vertical-align: middle;\n",
       "    }\n",
       "\n",
       "    .dataframe tbody tr th {\n",
       "        vertical-align: top;\n",
       "    }\n",
       "\n",
       "    .dataframe thead th {\n",
       "        text-align: right;\n",
       "    }\n",
       "</style>\n",
       "<table border=\"1\" class=\"dataframe\">\n",
       "  <thead>\n",
       "    <tr style=\"text-align: right;\">\n",
       "      <th></th>\n",
       "      <th>transition</th>\n",
       "      <th>type</th>\n",
       "      <th>DU/J</th>\n",
       "      <th>Q/J</th>\n",
       "      <th>W/J</th>\n",
       "      <th>DT/K</th>\n",
       "    </tr>\n",
       "    <tr>\n",
       "      <th>ID</th>\n",
       "      <th></th>\n",
       "      <th></th>\n",
       "      <th></th>\n",
       "      <th></th>\n",
       "      <th></th>\n",
       "      <th></th>\n",
       "    </tr>\n",
       "  </thead>\n",
       "  <tbody>\n",
       "    <tr>\n",
       "      <th>ab</th>\n",
       "      <td>A-&gt;B</td>\n",
       "      <td>I don't know ab</td>\n",
       "      <td>-111.1</td>\n",
       "      <td>222.2</td>\n",
       "      <td>-333.3</td>\n",
       "      <td>444.4</td>\n",
       "    </tr>\n",
       "    <tr>\n",
       "      <th>bc</th>\n",
       "      <td>B-&gt;C</td>\n",
       "      <td>iso...</td>\n",
       "      <td>0.0</td>\n",
       "      <td>0.0</td>\n",
       "      <td>0.0</td>\n",
       "      <td>0.0</td>\n",
       "    </tr>\n",
       "    <tr>\n",
       "      <th>cd</th>\n",
       "      <td>C-&gt;D</td>\n",
       "      <td>I don't know cd</td>\n",
       "      <td>555.5</td>\n",
       "      <td>-666.6</td>\n",
       "      <td>0.0</td>\n",
       "      <td>0.0</td>\n",
       "    </tr>\n",
       "    <tr>\n",
       "      <th>da</th>\n",
       "      <td>D-&gt;A</td>\n",
       "      <td>iso...</td>\n",
       "      <td>0.0</td>\n",
       "      <td>0.0</td>\n",
       "      <td>0.0</td>\n",
       "      <td>0.0</td>\n",
       "    </tr>\n",
       "  </tbody>\n",
       "</table>\n",
       "</div>"
      ],
      "text/plain": [
       "   transition             type   DU/J    Q/J    W/J   DT/K\n",
       "ID                                                        \n",
       "ab       A->B  I don't know ab -111.1  222.2 -333.3  444.4\n",
       "bc       B->C           iso...    0.0    0.0    0.0    0.0\n",
       "cd       C->D  I don't know cd  555.5 -666.6    0.0    0.0\n",
       "da       D->A           iso...    0.0    0.0    0.0    0.0"
      ]
     },
     "execution_count": 17,
     "metadata": {},
     "output_type": "execute_result"
    }
   ],
   "source": [
    "# set a set of values in data frame procs using .iloc (not .loc) for integer indexing\n",
    "procs.iloc[2,1:4] = [\"I don't know cd\", +555.5, -666.6]\n",
    "procs.head(5)"
   ]
  },
  {
   "cell_type": "code",
   "execution_count": 18,
   "metadata": {},
   "outputs": [
    {
     "data": {
      "text/html": [
       "<div>\n",
       "<style scoped>\n",
       "    .dataframe tbody tr th:only-of-type {\n",
       "        vertical-align: middle;\n",
       "    }\n",
       "\n",
       "    .dataframe tbody tr th {\n",
       "        vertical-align: top;\n",
       "    }\n",
       "\n",
       "    .dataframe thead th {\n",
       "        text-align: right;\n",
       "    }\n",
       "</style>\n",
       "<table border=\"1\" class=\"dataframe\">\n",
       "  <thead>\n",
       "    <tr style=\"text-align: right;\">\n",
       "      <th></th>\n",
       "      <th>transition</th>\n",
       "      <th>type</th>\n",
       "      <th>DU/J</th>\n",
       "      <th>Q/J</th>\n",
       "      <th>W/J</th>\n",
       "      <th>DT/K</th>\n",
       "    </tr>\n",
       "    <tr>\n",
       "      <th>ID</th>\n",
       "      <th></th>\n",
       "      <th></th>\n",
       "      <th></th>\n",
       "      <th></th>\n",
       "      <th></th>\n",
       "      <th></th>\n",
       "    </tr>\n",
       "  </thead>\n",
       "  <tbody>\n",
       "    <tr>\n",
       "      <th>ab</th>\n",
       "      <td>A-&gt;B</td>\n",
       "      <td>0.0</td>\n",
       "      <td>0.0</td>\n",
       "      <td>0.0</td>\n",
       "      <td>0.0</td>\n",
       "      <td>0.0</td>\n",
       "    </tr>\n",
       "    <tr>\n",
       "      <th>bc</th>\n",
       "      <td>B-&gt;C</td>\n",
       "      <td>0.0</td>\n",
       "      <td>0.0</td>\n",
       "      <td>0.0</td>\n",
       "      <td>0.0</td>\n",
       "      <td>0.0</td>\n",
       "    </tr>\n",
       "    <tr>\n",
       "      <th>cd</th>\n",
       "      <td>C-&gt;D</td>\n",
       "      <td>0.0</td>\n",
       "      <td>0.0</td>\n",
       "      <td>0.0</td>\n",
       "      <td>0.0</td>\n",
       "      <td>0.0</td>\n",
       "    </tr>\n",
       "    <tr>\n",
       "      <th>da</th>\n",
       "      <td>D-&gt;A</td>\n",
       "      <td>0.0</td>\n",
       "      <td>0.0</td>\n",
       "      <td>0.0</td>\n",
       "      <td>0.0</td>\n",
       "      <td>0.0</td>\n",
       "    </tr>\n",
       "  </tbody>\n",
       "</table>\n",
       "</div>"
      ],
      "text/plain": [
       "   transition  type  DU/J  Q/J  W/J  DT/K\n",
       "ID                                       \n",
       "ab       A->B   0.0   0.0  0.0  0.0   0.0\n",
       "bc       B->C   0.0   0.0  0.0  0.0   0.0\n",
       "cd       C->D   0.0   0.0  0.0  0.0   0.0\n",
       "da       D->A   0.0   0.0  0.0  0.0   0.0"
      ]
     },
     "execution_count": 18,
     "metadata": {},
     "output_type": "execute_result"
    }
   ],
   "source": [
    "# reset columns of data frame procs\n",
    "procs.loc[:,[\"type\",\"DU/J\",\"Q/J\",\"W/J\",\"DT/K\"]] = 0.0\n",
    "procs.head(5)"
   ]
  },
  {
   "cell_type": "markdown",
   "metadata": {},
   "source": [
    "### Initial Values, Design Values of the Engine"
   ]
  },
  {
   "cell_type": "markdown",
   "metadata": {},
   "source": [
    "The working piston of the particular Stirling engine under investigation operates between the following max and min volumina:"
   ]
  },
  {
   "cell_type": "code",
   "execution_count": 19,
   "metadata": {},
   "outputs": [],
   "source": [
    "Vmin_cc = 360 # cc\n",
    "Vmax_cc = 860 # cc"
   ]
  },
  {
   "cell_type": "markdown",
   "metadata": {},
   "source": [
    "Use SI units!"
   ]
  },
  {
   "cell_type": "code",
   "execution_count": 20,
   "metadata": {},
   "outputs": [],
   "source": [
    "Vmin = Vmin_cc*1e-6 # SI units: m^3\n",
    "Vmax = Vmax_cc*1e-6 # SI units: m^3"
   ]
  },
  {
   "cell_type": "markdown",
   "metadata": {},
   "source": [
    "The hot and cold temperatures of the working gas (in contact with hot and cold reservoir) are:"
   ]
  },
  {
   "cell_type": "code",
   "execution_count": 21,
   "metadata": {},
   "outputs": [],
   "source": [
    "Th = 850 # K\n",
    "Tc = 400 # K"
   ]
  },
  {
   "cell_type": "markdown",
   "metadata": {},
   "source": [
    "## 1. State A (Initial State)\n",
    "\n",
    "Start your analysis at State A! It is the **lower left corner** of the p-V-diagram (minimum volume and temperature). Since it is a closed thermodynamic cycle the states are passed cyclicly again and again.<br>The sequence of states looks like  A $\\longrightarrow$ B $\\longrightarrow$ C $\\longrightarrow$ D $\\longrightarrow$ A $\\longrightarrow$ B $\\longrightarrow$ C $\\longrightarrow$ D $\\longrightarrow$ $\\ldots$ ,<br>so A follows after D. You could start the analysis of one cycle at any state but for the sake of comparability with other students' results start at A.\n"
   ]
  },
  {
   "cell_type": "code",
   "execution_count": 22,
   "metadata": {},
   "outputs": [],
   "source": [
    "# STATE A (lower left corner in p-V-diagram)\n",
    "pA = 320e3 # PA <- GIVEN by the design of the engine!\n",
    "VA = Vmin  # left volume"
   ]
  },
  {
   "cell_type": "markdown",
   "metadata": {},
   "source": [
    "**Q 1.1:** What is the temperature of State A? "
   ]
  },
  {
   "cell_type": "code",
   "execution_count": 23,
   "metadata": {},
   "outputs": [],
   "source": [
    "# Code\n",
    "\n",
    "# TA = ...\n",
    "\n",
    "# print(...)"
   ]
  },
  {
   "cell_type": "markdown",
   "metadata": {},
   "source": [
    "### Amount of Gas in Moles"
   ]
  },
  {
   "cell_type": "markdown",
   "metadata": {},
   "source": [
    "**Q 1.2:** Use the **ideal gas law** to determine $n$, the number of moles, from state A."
   ]
  },
  {
   "cell_type": "code",
   "execution_count": 24,
   "metadata": {},
   "outputs": [],
   "source": [
    "# Code\n",
    "\n",
    "# n = ...\n",
    "\n",
    "# print(f\"The amount of working gas in the Stirling engine is {n = :.3e} mol\")"
   ]
  },
  {
   "cell_type": "markdown",
   "metadata": {},
   "source": [
    " **Q 1.3:** Does the amount of gas (moles) change during the cycle (at the different states)? "
   ]
  },
  {
   "cell_type": "markdown",
   "metadata": {},
   "source": [
    "**Answer:** ..."
   ]
  },
  {
   "cell_type": "markdown",
   "metadata": {},
   "source": [
    "### Heat Capacities"
   ]
  },
  {
   "cell_type": "markdown",
   "metadata": {},
   "source": [
    "**Q 1.4:** The working gas is a diatomic gas. How many degrees of freedom $f$ does the gas have? Explain!"
   ]
  },
  {
   "cell_type": "code",
   "execution_count": 25,
   "metadata": {},
   "outputs": [],
   "source": [
    "# Code\n",
    "\n",
    "# f = ...\n",
    "\n",
    "# print (f\"{f = }\")"
   ]
  },
  {
   "cell_type": "markdown",
   "metadata": {},
   "source": [
    "**Answer:** The diatomic gas has ... degrees of freedom, because ... "
   ]
  },
  {
   "cell_type": "markdown",
   "metadata": {},
   "source": [
    "**Q 1.5:** What are the **molar heat capacities** (per mol) of the gas at constant volume ($c_v$) and constant pressure ($c_p$) for this $f$, the number of degrees of freedom? Variable names with lower case $c$."
   ]
  },
  {
   "cell_type": "code",
   "execution_count": 26,
   "metadata": {},
   "outputs": [],
   "source": [
    "# Code\n",
    "\n",
    "# cv = \n",
    "# cp = \n",
    "\n",
    "# print(f\"{cv = ...\n",
    "# print ..."
   ]
  },
  {
   "cell_type": "markdown",
   "metadata": {},
   "source": [
    "**Q 1.6:** What are the **total heat capacities** of the gas at constant volume ($C_v$) and constant pressure ($C_p$) in $\\mathrm{J/K}$? Variable names with upper case $C$."
   ]
  },
  {
   "cell_type": "code",
   "execution_count": 27,
   "metadata": {},
   "outputs": [],
   "source": [
    "# Code\n",
    "\n",
    "# Cv = \n",
    "# Cp = \n",
    "\n",
    "# print(f\"{Cv = :.3f} J/K\")\n",
    "# print ..."
   ]
  },
  {
   "cell_type": "markdown",
   "metadata": {},
   "source": [
    "### Filling in the Initial Values for State A"
   ]
  },
  {
   "cell_type": "code",
   "execution_count": 28,
   "metadata": {},
   "outputs": [
    {
     "data": {
      "text/html": [
       "<div>\n",
       "<style scoped>\n",
       "    .dataframe tbody tr th:only-of-type {\n",
       "        vertical-align: middle;\n",
       "    }\n",
       "\n",
       "    .dataframe tbody tr th {\n",
       "        vertical-align: top;\n",
       "    }\n",
       "\n",
       "    .dataframe thead th {\n",
       "        text-align: right;\n",
       "    }\n",
       "</style>\n",
       "<table border=\"1\" class=\"dataframe\">\n",
       "  <thead>\n",
       "    <tr style=\"text-align: right;\">\n",
       "      <th></th>\n",
       "      <th>n/mol</th>\n",
       "      <th>p/Pa</th>\n",
       "      <th>V/m3</th>\n",
       "      <th>T/K</th>\n",
       "    </tr>\n",
       "    <tr>\n",
       "      <th>ID</th>\n",
       "      <th></th>\n",
       "      <th></th>\n",
       "      <th></th>\n",
       "      <th></th>\n",
       "    </tr>\n",
       "  </thead>\n",
       "  <tbody>\n",
       "    <tr>\n",
       "      <th>A</th>\n",
       "      <td>0.0</td>\n",
       "      <td>0.0</td>\n",
       "      <td>0.0</td>\n",
       "      <td>0.0</td>\n",
       "    </tr>\n",
       "    <tr>\n",
       "      <th>B</th>\n",
       "      <td>0.0</td>\n",
       "      <td>0.0</td>\n",
       "      <td>0.0</td>\n",
       "      <td>0.0</td>\n",
       "    </tr>\n",
       "    <tr>\n",
       "      <th>C</th>\n",
       "      <td>0.0</td>\n",
       "      <td>0.0</td>\n",
       "      <td>0.0</td>\n",
       "      <td>0.0</td>\n",
       "    </tr>\n",
       "    <tr>\n",
       "      <th>D</th>\n",
       "      <td>0.0</td>\n",
       "      <td>0.0</td>\n",
       "      <td>0.0</td>\n",
       "      <td>0.0</td>\n",
       "    </tr>\n",
       "  </tbody>\n",
       "</table>\n",
       "</div>"
      ],
      "text/plain": [
       "    n/mol  p/Pa  V/m3  T/K\n",
       "ID                        \n",
       "A     0.0   0.0   0.0  0.0\n",
       "B     0.0   0.0   0.0  0.0\n",
       "C     0.0   0.0   0.0  0.0\n",
       "D     0.0   0.0   0.0  0.0"
      ]
     },
     "execution_count": 28,
     "metadata": {},
     "output_type": "execute_result"
    }
   ],
   "source": [
    "states.head()"
   ]
  },
  {
   "cell_type": "markdown",
   "metadata": {},
   "source": [
    "**Q 1.7** Fill in the values for State A."
   ]
  },
  {
   "cell_type": "code",
   "execution_count": 29,
   "metadata": {},
   "outputs": [],
   "source": [
    "# Code\n",
    "\n",
    "# states.loc[\"A\",[\"n/mol\", \"p/Pa\",\"V/m3\", \"T/K\"]] = [n, pA, VA, TA]\n",
    "\n",
    "# states.head(5)"
   ]
  },
  {
   "cell_type": "markdown",
   "metadata": {},
   "source": [
    "## 2. State B"
   ]
  },
  {
   "cell_type": "markdown",
   "metadata": {},
   "source": [
    "**Q 2.1:** What is the pressure $p_B$ of State B? Calculate it. "
   ]
  },
  {
   "cell_type": "code",
   "execution_count": 30,
   "metadata": {},
   "outputs": [],
   "source": [
    "# Code\n",
    "\n",
    "# pB = ...\n",
    "\n",
    "# print(f\"{pB = :.2f} Pa\")"
   ]
  },
  {
   "cell_type": "markdown",
   "metadata": {},
   "source": [
    "**Q 2.2:** Determine the remaining values and fill them in."
   ]
  },
  {
   "cell_type": "code",
   "execution_count": 31,
   "metadata": {},
   "outputs": [],
   "source": [
    "# Code\n",
    "\n",
    "# ...\n",
    "\n",
    "# states.loc[\"B\"] = [n, pB, VB, TB]\n",
    "\n",
    "# states.head(5)"
   ]
  },
  {
   "cell_type": "markdown",
   "metadata": {},
   "source": [
    "## 3. State C"
   ]
  },
  {
   "cell_type": "markdown",
   "metadata": {},
   "source": [
    "**Q 3.1** Determine all variables of State C and fill it in data frame `states`."
   ]
  },
  {
   "cell_type": "code",
   "execution_count": 32,
   "metadata": {
    "tags": []
   },
   "outputs": [],
   "source": [
    "# Code\n",
    "\n",
    "# pC =\n",
    "# TC = \n",
    "# VC = \n",
    "\n",
    "# states.loc[\"C\"] =\n",
    "\n",
    "# states.head(5)"
   ]
  },
  {
   "cell_type": "markdown",
   "metadata": {},
   "source": [
    "## 4. State D"
   ]
  },
  {
   "cell_type": "markdown",
   "metadata": {},
   "source": [
    "**Q 4.1** Determine all variables of State D and fill it in data frame `states`."
   ]
  },
  {
   "cell_type": "code",
   "execution_count": 33,
   "metadata": {
    "tags": []
   },
   "outputs": [],
   "source": [
    "# Code\n",
    "\n",
    "# ...\n",
    "\n",
    "# states.loc[...\n",
    "\n",
    "# states.head(5)"
   ]
  },
  {
   "cell_type": "markdown",
   "metadata": {
    "tags": []
   },
   "source": [
    "## 5. Process _ab_: State Transition A $\\rightarrow$ B"
   ]
  },
  {
   "cell_type": "code",
   "execution_count": 34,
   "metadata": {},
   "outputs": [
    {
     "data": {
      "text/html": [
       "<div>\n",
       "<style scoped>\n",
       "    .dataframe tbody tr th:only-of-type {\n",
       "        vertical-align: middle;\n",
       "    }\n",
       "\n",
       "    .dataframe tbody tr th {\n",
       "        vertical-align: top;\n",
       "    }\n",
       "\n",
       "    .dataframe thead th {\n",
       "        text-align: right;\n",
       "    }\n",
       "</style>\n",
       "<table border=\"1\" class=\"dataframe\">\n",
       "  <thead>\n",
       "    <tr style=\"text-align: right;\">\n",
       "      <th></th>\n",
       "      <th>transition</th>\n",
       "      <th>type</th>\n",
       "      <th>DU/J</th>\n",
       "      <th>Q/J</th>\n",
       "      <th>W/J</th>\n",
       "      <th>DT/K</th>\n",
       "    </tr>\n",
       "    <tr>\n",
       "      <th>ID</th>\n",
       "      <th></th>\n",
       "      <th></th>\n",
       "      <th></th>\n",
       "      <th></th>\n",
       "      <th></th>\n",
       "      <th></th>\n",
       "    </tr>\n",
       "  </thead>\n",
       "  <tbody>\n",
       "    <tr>\n",
       "      <th>ab</th>\n",
       "      <td>A-&gt;B</td>\n",
       "      <td>0.0</td>\n",
       "      <td>0.0</td>\n",
       "      <td>0.0</td>\n",
       "      <td>0.0</td>\n",
       "      <td>0.0</td>\n",
       "    </tr>\n",
       "    <tr>\n",
       "      <th>bc</th>\n",
       "      <td>B-&gt;C</td>\n",
       "      <td>0.0</td>\n",
       "      <td>0.0</td>\n",
       "      <td>0.0</td>\n",
       "      <td>0.0</td>\n",
       "      <td>0.0</td>\n",
       "    </tr>\n",
       "    <tr>\n",
       "      <th>cd</th>\n",
       "      <td>C-&gt;D</td>\n",
       "      <td>0.0</td>\n",
       "      <td>0.0</td>\n",
       "      <td>0.0</td>\n",
       "      <td>0.0</td>\n",
       "      <td>0.0</td>\n",
       "    </tr>\n",
       "    <tr>\n",
       "      <th>da</th>\n",
       "      <td>D-&gt;A</td>\n",
       "      <td>0.0</td>\n",
       "      <td>0.0</td>\n",
       "      <td>0.0</td>\n",
       "      <td>0.0</td>\n",
       "      <td>0.0</td>\n",
       "    </tr>\n",
       "  </tbody>\n",
       "</table>\n",
       "</div>"
      ],
      "text/plain": [
       "   transition  type  DU/J  Q/J  W/J  DT/K\n",
       "ID                                       \n",
       "ab       A->B   0.0   0.0  0.0  0.0   0.0\n",
       "bc       B->C   0.0   0.0  0.0  0.0   0.0\n",
       "cd       C->D   0.0   0.0  0.0  0.0   0.0\n",
       "da       D->A   0.0   0.0  0.0  0.0   0.0"
      ]
     },
     "execution_count": 34,
     "metadata": {},
     "output_type": "execute_result"
    }
   ],
   "source": [
    "procs.head(5)"
   ]
  },
  {
   "cell_type": "markdown",
   "metadata": {},
   "source": [
    "**Q 5.1:** Which type to state transition happens between A and B? "
   ]
  },
  {
   "cell_type": "code",
   "execution_count": 35,
   "metadata": {},
   "outputs": [],
   "source": [
    "# Code \n",
    "\n",
    "# type_ab = \"iso...\"\n",
    "\n",
    "# print ..."
   ]
  },
  {
   "cell_type": "markdown",
   "metadata": {},
   "source": [
    "**Q 5.2:** What is the temperature difference $\\Delta T_\\mathrm{ab}$ between initial state A and final state B? Is the temperature increasing or decreasing? Consider the sign."
   ]
  },
  {
   "cell_type": "code",
   "execution_count": 36,
   "metadata": {},
   "outputs": [],
   "source": [
    "# Code\n",
    "\n",
    "# DTab = ...\n",
    "\n",
    "# print ..."
   ]
  },
  {
   "cell_type": "markdown",
   "metadata": {},
   "source": [
    "**Q 5.3:** What is the change of internal energy $\\Delta U_\\mathrm{ab}$? "
   ]
  },
  {
   "cell_type": "code",
   "execution_count": 37,
   "metadata": {},
   "outputs": [],
   "source": [
    "# Code\n",
    "\n",
    "# DUab = ...\n",
    "\n",
    "# print ..."
   ]
  },
  {
   "cell_type": "markdown",
   "metadata": {},
   "source": [
    "**Q 5.4:** How much work $W_\\mathrm{ab}$ is done by the system during this process?"
   ]
  },
  {
   "cell_type": "code",
   "execution_count": 38,
   "metadata": {},
   "outputs": [],
   "source": [
    "# Code\n",
    "\n",
    "# Wab = ...\n",
    "\n",
    "# procs.head(5)"
   ]
  },
  {
   "cell_type": "markdown",
   "metadata": {},
   "source": [
    "**Q 5.5:** How much heat $Q_\\mathrm{ab}$ is transferred during this process?"
   ]
  },
  {
   "cell_type": "code",
   "execution_count": 39,
   "metadata": {},
   "outputs": [],
   "source": [
    "# Code\n",
    "\n",
    "# Qab = ...\n",
    "\n",
    "# procs.head(5)"
   ]
  },
  {
   "cell_type": "markdown",
   "metadata": {},
   "source": [
    "**Q 5.6:** Where does $Q_\\mathrm{ab}$ come from? Does it go into the system (part of $Q_\\mathrm{in}$) or does it come from the system (part of $Q_\\mathrm{out}$)?"
   ]
  },
  {
   "cell_type": "markdown",
   "metadata": {},
   "source": [
    "**Answer:** ..."
   ]
  },
  {
   "cell_type": "markdown",
   "metadata": {},
   "source": [
    "**Q 5.7:** Check your results by means of 1st law: $\\Delta U = Q + W$."
   ]
  },
  {
   "cell_type": "code",
   "execution_count": 40,
   "metadata": {},
   "outputs": [],
   "source": [
    "# Code:\n",
    "\n",
    "# ...\n",
    "\n",
    "# print ..."
   ]
  },
  {
   "cell_type": "markdown",
   "metadata": {},
   "source": [
    "**Q 5.8:** Fill in the values."
   ]
  },
  {
   "cell_type": "code",
   "execution_count": 41,
   "metadata": {},
   "outputs": [],
   "source": [
    "# Code\n",
    "\n",
    "# procs.loc[\"ab\",[\"type\",\"DU/J\",\"Q/J\",\"W/J\",\"DT/K\"]] = [type_ab, DUab, Qab, Wab, DTab]\n",
    "\n",
    "# alterative: procs.iloc[0,1:] = [type_ab, DUab, Qab, Wab, DTab]\n",
    "\n",
    "# procs.head(5)"
   ]
  },
  {
   "cell_type": "code",
   "execution_count": 42,
   "metadata": {},
   "outputs": [],
   "source": [
    "# CHECK A->B\n",
    "# procs.loc[\"ab\"]"
   ]
  },
  {
   "cell_type": "markdown",
   "metadata": {},
   "source": [
    "## 6. Process _bc_: State Transition B $\\rightarrow$ C"
   ]
  },
  {
   "cell_type": "markdown",
   "metadata": {},
   "source": [
    "**Q 6.1:** What is the type of the state transition (name of thermodynamic process)?"
   ]
  },
  {
   "cell_type": "code",
   "execution_count": 43,
   "metadata": {},
   "outputs": [],
   "source": [
    "# Code\n",
    "\n",
    "# type_bc = ...\n",
    "\n",
    "# print ..."
   ]
  },
  {
   "cell_type": "markdown",
   "metadata": {},
   "source": [
    "**Q 6.2:** What is the temperature change and the resulting change of internal energy?"
   ]
  },
  {
   "cell_type": "code",
   "execution_count": 44,
   "metadata": {},
   "outputs": [],
   "source": [
    "# Code\n",
    "\n",
    "# DTbc = \n",
    "# DUbc =\n",
    "\n",
    "# print ..."
   ]
  },
  {
   "cell_type": "markdown",
   "metadata": {},
   "source": [
    "**Q 6.3:** Is the heat $Q_\\mathrm{bc}$ going into the system (positive value) or coming from the system (negative value)? Is the work  $W_\\mathrm{bc}$ done on the system (positive work) or by the system (negative)?"
   ]
  },
  {
   "cell_type": "markdown",
   "metadata": {},
   "source": [
    "**Answer:** ..."
   ]
  },
  {
   "cell_type": "markdown",
   "metadata": {},
   "source": [
    "**Q 6.4:** How much heat and work are transferred? Consider the right signs (positive/negative). Fill all values in."
   ]
  },
  {
   "cell_type": "code",
   "execution_count": 45,
   "metadata": {},
   "outputs": [],
   "source": [
    "# Code\n",
    "\n",
    "# Wbc =\n",
    "# Qbc = \n",
    "\n",
    "# procs.loc[\"bc\",[\"type\",\"DU/J\",\"Q/J\",\"W/J\",\"DT/K\"]] = ...\n",
    "\n",
    "# procs.head()"
   ]
  },
  {
   "cell_type": "markdown",
   "metadata": {},
   "source": [
    "**Q 6.5:** Check your results by means of 1st law: $\\Delta U = Q + W$."
   ]
  },
  {
   "cell_type": "code",
   "execution_count": 46,
   "metadata": {},
   "outputs": [],
   "source": [
    "# Code:\n",
    "\n",
    "# ...\n",
    "\n",
    "# print ..."
   ]
  },
  {
   "cell_type": "markdown",
   "metadata": {},
   "source": [
    "## 7. Process _cd_: State Transition C $\\rightarrow$ D"
   ]
  },
  {
   "cell_type": "markdown",
   "metadata": {},
   "source": [
    "**Q 7.1:** Perform all definitions and calculations accordingly. Fill in the values. "
   ]
  },
  {
   "cell_type": "code",
   "execution_count": 47,
   "metadata": {},
   "outputs": [],
   "source": [
    "# Code:\n",
    "\n",
    "# procs.loc[\"cd\",[\"type\",\"DU/J\",\"Q/J\",\"W/J\",\"DT/K\"]] = [type_cd, DUcd, Qcd, Wcd, DTcd]\n",
    "\n",
    "# procs.head(5)"
   ]
  },
  {
   "cell_type": "markdown",
   "metadata": {},
   "source": [
    "## 8. Process _da_: State Transition D $\\rightarrow$ A"
   ]
  },
  {
   "cell_type": "markdown",
   "metadata": {},
   "source": [
    "**Q 8.1:** Perform all definitions and calculations accordingly. Fill in the values. "
   ]
  },
  {
   "cell_type": "code",
   "execution_count": 48,
   "metadata": {},
   "outputs": [],
   "source": [
    "# Code:\n",
    "\n",
    "# procs.loc[\"da\", ...] = ...\n",
    "\n",
    "# procs.head(5)"
   ]
  },
  {
   "cell_type": "markdown",
   "metadata": {},
   "source": [
    "## 9. Analysis of this Ideal Stirling Cycle"
   ]
  },
  {
   "cell_type": "markdown",
   "metadata": {},
   "source": [
    "**Q 9.1:** The Stirling cycle consists of four processes of two different kinds. What are they?"
   ]
  },
  {
   "cell_type": "markdown",
   "metadata": {},
   "source": [
    "**Answer:** 2 x iso... and 2 x iso..."
   ]
  },
  {
   "cell_type": "markdown",
   "metadata": {},
   "source": [
    "**Q 9.2:** According to your data frame `procs`: During which processes does heat flow into the system ($Q$ positive)? Name the sum of it $Q_\\mathrm{in}$."
   ]
  },
  {
   "cell_type": "code",
   "execution_count": 49,
   "metadata": {},
   "outputs": [],
   "source": [
    "# Code\n",
    "\n",
    "# Qin = ... + ...\n",
    "\n",
    "# print ..."
   ]
  },
  {
   "cell_type": "markdown",
   "metadata": {},
   "source": [
    "**Q 9.3:** According to your data frame `procs`: During which processes does heat flow out of the system ($Q$ negative)? Name the sum of it $Q_\\mathrm{out}$. $Q_\\mathrm{out}$ is negative. "
   ]
  },
  {
   "cell_type": "code",
   "execution_count": 50,
   "metadata": {},
   "outputs": [],
   "source": [
    "# Code\n",
    "\n",
    "# Qout = ... + ...\n",
    "\n",
    "# print ..."
   ]
  },
  {
   "cell_type": "markdown",
   "metadata": {},
   "source": [
    "**Q 9.4:** Which of the two processes are associated to work $W$? Explain whether the work is done by the system or done on the system! Consider the sign convention for work defined earlier."
   ]
  },
  {
   "cell_type": "markdown",
   "metadata": {},
   "source": [
    "**Answer:** ..."
   ]
  },
  {
   "cell_type": "markdown",
   "metadata": {},
   "source": [
    "**Q 9.5:** The sum of the work during all processes of the full cycle is the net work $W_\\mathrm{net}$. Is it positive or negative? What does the sign mean?"
   ]
  },
  {
   "cell_type": "code",
   "execution_count": 51,
   "metadata": {},
   "outputs": [],
   "source": [
    "# Code\n",
    "\n",
    "# Wnet = ... \n",
    "\n",
    "# print ..."
   ]
  },
  {
   "cell_type": "markdown",
   "metadata": {},
   "source": [
    "**Answer:** ..."
   ]
  },
  {
   "cell_type": "markdown",
   "metadata": {},
   "source": [
    "**Q 9.6:** How much energy do you have to invest for a full cycle? This is what you have to pay for, e.g. when you use a fossil fuel heat source. How much heat are you wasting, losing? What is the usable work you gain from the system?"
   ]
  },
  {
   "cell_type": "markdown",
   "metadata": {},
   "source": [
    "**Answer:** ..."
   ]
  },
  {
   "cell_type": "markdown",
   "metadata": {},
   "source": [
    "**Q 9.7:** What is the efficiency $\\eta$ of the engine? It is the ratio of usable work per invested energy input."
   ]
  },
  {
   "cell_type": "code",
   "execution_count": 52,
   "metadata": {},
   "outputs": [],
   "source": [
    "# Code\n",
    "\n",
    "# eta = ... \n",
    "\n",
    "# print ..."
   ]
  },
  {
   "cell_type": "markdown",
   "metadata": {},
   "source": [
    "**Q 9.8:** Is $\\eta$ good or bad? Compare it to the theoretically maximum efficiency, the Carnot efficiency, for the given hot and cold reservoir temperatures."
   ]
  },
  {
   "cell_type": "code",
   "execution_count": 53,
   "metadata": {},
   "outputs": [],
   "source": [
    "# Code\n",
    "\n",
    "# eta = ... \n",
    "\n",
    "# print ..."
   ]
  },
  {
   "cell_type": "markdown",
   "metadata": {},
   "source": [
    "**Answer:** ..."
   ]
  },
  {
   "cell_type": "markdown",
   "metadata": {},
   "source": [
    "**Q: 9.9:** Assume the engine runs at **1500 rpm**. How much mechanical power $P_\\mathrm{mech}$ in Watts does it generate?"
   ]
  },
  {
   "cell_type": "code",
   "execution_count": 54,
   "metadata": {},
   "outputs": [],
   "source": [
    "# Code\n",
    "\n",
    "# Pmech  = ...\n",
    "\n",
    "# print ..."
   ]
  },
  {
   "cell_type": "markdown",
   "metadata": {},
   "source": [
    "**Q 9.10:** How much thermal input power $P_\\mathrm{in}$ from the heat source is needed to provide the mechanical power $P_\\mathrm{mech}$? \n",
    "<br>Which irradiance component is the main source of solar radiant power $P_\\mathrm{in}$ collected by the mirror mounted to the 2-axis solar tracker? "
   ]
  },
  {
   "cell_type": "code",
   "execution_count": 55,
   "metadata": {},
   "outputs": [],
   "source": [
    "# Code\n",
    "\n",
    "# Pin = ...\n",
    "\n",
    "# print ..."
   ]
  },
  {
   "cell_type": "markdown",
   "metadata": {},
   "source": [
    "**Answer:** ..."
   ]
  },
  {
   "cell_type": "markdown",
   "metadata": {
    "tags": []
   },
   "source": [
    "## 10. Plotting the p-V-Diagram"
   ]
  },
  {
   "cell_type": "markdown",
   "metadata": {},
   "source": [
    "\n",
    "<img src=\"./images/p-V-Diagram.png\" width=\"400\">\n",
    "\n",
    "_Fig.2: p-V diagram template of the Stirling engine under study to be prepared by you._"
   ]
  },
  {
   "cell_type": "markdown",
   "metadata": {},
   "source": [
    "**Q 10.1:** Use matplotlib to plot the p-V Diagram for the Stirling engine under study! Produce your own diagram similar to the one above!\n",
    "<br>Try to get as close to the template as possible! The complex diagram has a lot of features.<br>\n",
    "**Do not just copy** the values and the diagram! The diagram has to be **BASED ON YOUR OWN CALCULATIONS** from the Stirling engine analysis above!<br>\n",
    "You **must plot the segments** $B\\rightarrow C$ and $D\\rightarrow A$ corrently **curved!** They **are not straight lines!** They are representing a particular thermodynamic process! \n",
    "<br>Replace \"iso...\" in the diagram legend with the **correct names** of the processes. "
   ]
  },
  {
   "cell_type": "code",
   "execution_count": 56,
   "metadata": {},
   "outputs": [],
   "source": [
    "# Code\n",
    "\n",
    "# V = np.linspace(Vmin,Vmax,100)\n",
    "# calculate the correct curved segments ...\n",
    "\n",
    "# fig1, ax1 = plt.subplots(figsize=(5,5), dpi=150, subplot_kw={'aspect': 'equal'})\n",
    "# fill_color = (0.8,0.9,0.8)\n",
    "\n",
    "# ax1.plot(VA*1e6,pA/1000,\"ko\")\n",
    "# ...\n",
    "# ax1.annotate(\"$A$\", (320,310))\n",
    "# ...\n",
    "# ax1.plot([VA*1e6,VB*1e6],[pA/1000,pB/1000],label= r\"$A\\rightarrow B$: iso...\")\n",
    "# ...\n",
    "# ax1.fill_between(...)\n",
    "# \n",
    "# ax1.set_ylabel(r\"Pressure $p$ / $\\mathrm{kPa}$\")\n",
    "# ...\n",
    "\n",
    "# plt.show()"
   ]
  },
  {
   "cell_type": "markdown",
   "metadata": {},
   "source": [
    "## 11. The Geographic Location and its Irradiance"
   ]
  },
  {
   "cell_type": "markdown",
   "metadata": {},
   "source": [
    "The geographical location determines the long term characteristics of the irradiance. The irradiance concentrated by the parabolic reflector provides the input power for your Stirling engine. Both goes together.\n",
    "\n",
    "**Your tasks:**\n",
    "\n",
    "1. **Select a location** in your home country where you would like to install your Dish-Stirling sytem.\n",
    "1. Determine the **average yearly irradiance components** (direct, diffuse, global) from a **typical meteorological year (TMY)** data **for your location.**\n",
    "1. **Dimension the dish size** of your system to collect enough radiant power to feed your engine.\n",
    "\n",
    "Use the [**PVGIS online tools**](https://re.jrc.ec.europa.eu/pvg_tools/en/) of the _Joint Research Center (JRC)_ of the European Commission to select a location and to download the TMY data for your selected location!\n",
    "\n",
    "**Remark: This task is a vast simplification!** A more precise performance analysis would require to use time series irradiance data e.g. in hourly resolution and feed this time varying concentrated solar power into your Stirling engine. Under some  low irradiance condition the engine would not even start to drive the generator mounted to it. The whole system is not linear! \n",
    "<br>\n",
    "Anyway, to keep the analysis simple we use the average solar radiation calculated from the TMY data. We use just one \"representative\" average irradiance value as mean source power. This mean irradiance (measured in $\\mathrm(Wm^{-2})$ has to be concentrated (collected) by the dish of mirror area $A$ (measured in $m^2$). The size of the dish must be so large, that the average concentrated power is as large as the necessary input power $P_\\mathrm{in}$ determined before. Again, this analysis just yields rough estimates. It is not precise enough for expensive real world installations!   \n",
    "\n",
    "\n",
    "\n"
   ]
  },
  {
   "cell_type": "markdown",
   "metadata": {},
   "source": [
    "\n",
    "<img src=\"./images/PVGIS-Tools.png\" width=\"800\">\n",
    "\n",
    "_Fig.3: The PVGIS online tools of the _Joint Research Center (JRC)_ of the European Commission. In this example a location near the city of Xanten is selected._"
   ]
  },
  {
   "cell_type": "markdown",
   "metadata": {},
   "source": [
    "**Q 11.1:** Open the [**PVGIS online tools**](https://re.jrc.ec.europa.eu/pvg_tools/en/) and **select a location** in your home country. Accept the default settings of the tools. Go to the tab `TMY`, **download the TMY data in CSV format** and move it to the local subfolder `./data/`. In the folder there is an already downloaded file of the location Xanten named `tmy_51.649_6.461_2005_2020.csv`. The name indicates that the data belongs to the location at the coordinates 51.649° north latitude and 6.461° east longitude.\n",
    "\n",
    "You have to use **your own location** for the analysis! The file you download **must be different!** You have to adapt the following code to the file name of your downloaded TMY data."
   ]
  },
  {
   "cell_type": "code",
   "execution_count": 57,
   "metadata": {},
   "outputs": [
    {
     "name": "stdout",
     "output_type": "stream",
     "text": [
      "data\\tmy_51.649_6.461_2005_2020.csv\n"
     ]
    }
   ],
   "source": [
    "# List the content of the data directory.\n",
    "import pathlib\n",
    "p = pathlib.Path('.')\n",
    "for path in p.glob('./data/tmy*.csv'):\n",
    "    print(path)"
   ]
  },
  {
   "cell_type": "markdown",
   "metadata": {},
   "source": [
    "**Change the following path-filename to your own TMY data file for your selected location!**"
   ]
  },
  {
   "cell_type": "code",
   "execution_count": 58,
   "metadata": {},
   "outputs": [],
   "source": [
    "pfname = \"./data/tmy_51.649_6.461_2005_2020.csv\""
   ]
  },
  {
   "cell_type": "markdown",
   "metadata": {},
   "source": [
    "**Q 11.2:** Before you continue **analyse the CSV file!** Use the file `tmy_51.649_6.461_2005_2020.csv` as an example. Use a text editor (e.g. `notepad++` if you are using Windows) and open the file. **How is it structured?** What do the text blocks contain? Complete the table below. Describe in short keywords."
   ]
  },
  {
   "cell_type": "markdown",
   "metadata": {},
   "source": [
    "**Answer:** (complete the table)\n",
    "\n",
    "| **rows** | **content** |\n",
    "| --- | --- |\n",
    "| 1 - 3 | |\n",
    "| 4 | column names for the text block with the typical (most representative) months and the years from which the data originate |\n",
    "| 5 - 16 | |\n",
    "| 17 | |\n",
    "| 18 - 761 | |\n",
    "| 721 - 1433 | |\n",
    "| 8778 | empty line |\n",
    "| 8779 - 8787 | |\n",
    "| 8789 | |"
   ]
  },
  {
   "cell_type": "markdown",
   "metadata": {},
   "source": [
    "**Q 11.3:** Which year provides the most representative data on solar radiation in June? Which row number range contains the June data?"
   ]
  },
  {
   "cell_type": "markdown",
   "metadata": {},
   "source": [
    "**Answer:** ..."
   ]
  },
  {
   "cell_type": "markdown",
   "metadata": {},
   "source": [
    "**Q 11.4:** What do the columns `G(h)`, `Gb(n)`, and `Gd(h)` contain?"
   ]
  },
  {
   "cell_type": "markdown",
   "metadata": {
    "tags": []
   },
   "source": [
    "**Answer:**"
   ]
  },
  {
   "cell_type": "markdown",
   "metadata": {
    "tags": []
   },
   "source": [
    "**Q 11.5:** Read the TMY radiation data (CSV file) into a pandas dataframe. **Now you your own downloaded TMY data!** You have to crop the corresponding data block from the CSV file. The easiest way is to skip the rows above and below the relevant range of rows. To make yuor life easier I provide some rudimentary code which runs for the Xanten example. Maybe you have to adapt the row ranges to be excluded."
   ]
  },
  {
   "cell_type": "code",
   "execution_count": 59,
   "metadata": {},
   "outputs": [],
   "source": [
    "idx_exclude = list(range(0,16)) + list(range(8777,8790))\n",
    "tmy = pd.read_csv(pfname, skiprows = idx_exclude)"
   ]
  },
  {
   "cell_type": "code",
   "execution_count": 60,
   "metadata": {},
   "outputs": [
    {
     "data": {
      "text/html": [
       "<div>\n",
       "<style scoped>\n",
       "    .dataframe tbody tr th:only-of-type {\n",
       "        vertical-align: middle;\n",
       "    }\n",
       "\n",
       "    .dataframe tbody tr th {\n",
       "        vertical-align: top;\n",
       "    }\n",
       "\n",
       "    .dataframe thead th {\n",
       "        text-align: right;\n",
       "    }\n",
       "</style>\n",
       "<table border=\"1\" class=\"dataframe\">\n",
       "  <thead>\n",
       "    <tr style=\"text-align: right;\">\n",
       "      <th></th>\n",
       "      <th>time(UTC)</th>\n",
       "      <th>T2m</th>\n",
       "      <th>RH</th>\n",
       "      <th>G(h)</th>\n",
       "      <th>Gb(n)</th>\n",
       "      <th>Gd(h)</th>\n",
       "      <th>IR(h)</th>\n",
       "      <th>WS10m</th>\n",
       "      <th>WD10m</th>\n",
       "      <th>SP</th>\n",
       "    </tr>\n",
       "  </thead>\n",
       "  <tbody>\n",
       "    <tr>\n",
       "      <th>0</th>\n",
       "      <td>20180101:0000</td>\n",
       "      <td>5.21</td>\n",
       "      <td>86.50</td>\n",
       "      <td>0.0</td>\n",
       "      <td>-0.0</td>\n",
       "      <td>0.0</td>\n",
       "      <td>287.57</td>\n",
       "      <td>5.03</td>\n",
       "      <td>230.0</td>\n",
       "      <td>99222.0</td>\n",
       "    </tr>\n",
       "    <tr>\n",
       "      <th>1</th>\n",
       "      <td>20180101:0100</td>\n",
       "      <td>5.55</td>\n",
       "      <td>84.87</td>\n",
       "      <td>0.0</td>\n",
       "      <td>-0.0</td>\n",
       "      <td>0.0</td>\n",
       "      <td>286.36</td>\n",
       "      <td>5.48</td>\n",
       "      <td>227.0</td>\n",
       "      <td>99202.0</td>\n",
       "    </tr>\n",
       "    <tr>\n",
       "      <th>2</th>\n",
       "      <td>20180101:0200</td>\n",
       "      <td>5.88</td>\n",
       "      <td>83.24</td>\n",
       "      <td>0.0</td>\n",
       "      <td>-0.0</td>\n",
       "      <td>0.0</td>\n",
       "      <td>285.15</td>\n",
       "      <td>5.94</td>\n",
       "      <td>226.0</td>\n",
       "      <td>99252.0</td>\n",
       "    </tr>\n",
       "    <tr>\n",
       "      <th>3</th>\n",
       "      <td>20180101:0300</td>\n",
       "      <td>6.21</td>\n",
       "      <td>81.61</td>\n",
       "      <td>0.0</td>\n",
       "      <td>-0.0</td>\n",
       "      <td>0.0</td>\n",
       "      <td>283.93</td>\n",
       "      <td>6.39</td>\n",
       "      <td>227.0</td>\n",
       "      <td>99282.0</td>\n",
       "    </tr>\n",
       "    <tr>\n",
       "      <th>4</th>\n",
       "      <td>20180101:0400</td>\n",
       "      <td>6.55</td>\n",
       "      <td>79.98</td>\n",
       "      <td>0.0</td>\n",
       "      <td>-0.0</td>\n",
       "      <td>0.0</td>\n",
       "      <td>282.72</td>\n",
       "      <td>6.84</td>\n",
       "      <td>234.0</td>\n",
       "      <td>99332.0</td>\n",
       "    </tr>\n",
       "  </tbody>\n",
       "</table>\n",
       "</div>"
      ],
      "text/plain": [
       "       time(UTC)   T2m     RH  G(h)  Gb(n)  Gd(h)   IR(h)  WS10m  WD10m  \\\n",
       "0  20180101:0000  5.21  86.50   0.0   -0.0    0.0  287.57   5.03  230.0   \n",
       "1  20180101:0100  5.55  84.87   0.0   -0.0    0.0  286.36   5.48  227.0   \n",
       "2  20180101:0200  5.88  83.24   0.0   -0.0    0.0  285.15   5.94  226.0   \n",
       "3  20180101:0300  6.21  81.61   0.0   -0.0    0.0  283.93   6.39  227.0   \n",
       "4  20180101:0400  6.55  79.98   0.0   -0.0    0.0  282.72   6.84  234.0   \n",
       "\n",
       "        SP  \n",
       "0  99222.0  \n",
       "1  99202.0  \n",
       "2  99252.0  \n",
       "3  99282.0  \n",
       "4  99332.0  "
      ]
     },
     "execution_count": 60,
     "metadata": {},
     "output_type": "execute_result"
    }
   ],
   "source": [
    "tmy.head()"
   ]
  },
  {
   "cell_type": "code",
   "execution_count": 61,
   "metadata": {},
   "outputs": [
    {
     "data": {
      "text/html": [
       "<div>\n",
       "<style scoped>\n",
       "    .dataframe tbody tr th:only-of-type {\n",
       "        vertical-align: middle;\n",
       "    }\n",
       "\n",
       "    .dataframe tbody tr th {\n",
       "        vertical-align: top;\n",
       "    }\n",
       "\n",
       "    .dataframe thead th {\n",
       "        text-align: right;\n",
       "    }\n",
       "</style>\n",
       "<table border=\"1\" class=\"dataframe\">\n",
       "  <thead>\n",
       "    <tr style=\"text-align: right;\">\n",
       "      <th></th>\n",
       "      <th>time(UTC)</th>\n",
       "      <th>T2m</th>\n",
       "      <th>RH</th>\n",
       "      <th>G(h)</th>\n",
       "      <th>Gb(n)</th>\n",
       "      <th>Gd(h)</th>\n",
       "      <th>IR(h)</th>\n",
       "      <th>WS10m</th>\n",
       "      <th>WD10m</th>\n",
       "      <th>SP</th>\n",
       "    </tr>\n",
       "  </thead>\n",
       "  <tbody>\n",
       "    <tr>\n",
       "      <th>8755</th>\n",
       "      <td>20141231:1900</td>\n",
       "      <td>3.54</td>\n",
       "      <td>94.65</td>\n",
       "      <td>0.0</td>\n",
       "      <td>-0.0</td>\n",
       "      <td>0.0</td>\n",
       "      <td>293.65</td>\n",
       "      <td>2.77</td>\n",
       "      <td>234.0</td>\n",
       "      <td>102879.0</td>\n",
       "    </tr>\n",
       "    <tr>\n",
       "      <th>8756</th>\n",
       "      <td>20141231:2000</td>\n",
       "      <td>3.88</td>\n",
       "      <td>93.02</td>\n",
       "      <td>0.0</td>\n",
       "      <td>-0.0</td>\n",
       "      <td>0.0</td>\n",
       "      <td>292.43</td>\n",
       "      <td>3.22</td>\n",
       "      <td>232.0</td>\n",
       "      <td>102899.0</td>\n",
       "    </tr>\n",
       "    <tr>\n",
       "      <th>8757</th>\n",
       "      <td>20141231:2100</td>\n",
       "      <td>4.21</td>\n",
       "      <td>91.39</td>\n",
       "      <td>0.0</td>\n",
       "      <td>-0.0</td>\n",
       "      <td>0.0</td>\n",
       "      <td>291.22</td>\n",
       "      <td>3.67</td>\n",
       "      <td>229.0</td>\n",
       "      <td>102909.0</td>\n",
       "    </tr>\n",
       "    <tr>\n",
       "      <th>8758</th>\n",
       "      <td>20141231:2200</td>\n",
       "      <td>4.54</td>\n",
       "      <td>89.76</td>\n",
       "      <td>0.0</td>\n",
       "      <td>-0.0</td>\n",
       "      <td>0.0</td>\n",
       "      <td>290.00</td>\n",
       "      <td>4.13</td>\n",
       "      <td>232.0</td>\n",
       "      <td>102929.0</td>\n",
       "    </tr>\n",
       "    <tr>\n",
       "      <th>8759</th>\n",
       "      <td>20141231:2300</td>\n",
       "      <td>4.88</td>\n",
       "      <td>88.13</td>\n",
       "      <td>0.0</td>\n",
       "      <td>-0.0</td>\n",
       "      <td>0.0</td>\n",
       "      <td>288.79</td>\n",
       "      <td>4.58</td>\n",
       "      <td>232.0</td>\n",
       "      <td>102948.0</td>\n",
       "    </tr>\n",
       "  </tbody>\n",
       "</table>\n",
       "</div>"
      ],
      "text/plain": [
       "          time(UTC)   T2m     RH  G(h)  Gb(n)  Gd(h)   IR(h)  WS10m  WD10m  \\\n",
       "8755  20141231:1900  3.54  94.65   0.0   -0.0    0.0  293.65   2.77  234.0   \n",
       "8756  20141231:2000  3.88  93.02   0.0   -0.0    0.0  292.43   3.22  232.0   \n",
       "8757  20141231:2100  4.21  91.39   0.0   -0.0    0.0  291.22   3.67  229.0   \n",
       "8758  20141231:2200  4.54  89.76   0.0   -0.0    0.0  290.00   4.13  232.0   \n",
       "8759  20141231:2300  4.88  88.13   0.0   -0.0    0.0  288.79   4.58  232.0   \n",
       "\n",
       "            SP  \n",
       "8755  102879.0  \n",
       "8756  102899.0  \n",
       "8757  102909.0  \n",
       "8758  102929.0  \n",
       "8759  102948.0  "
      ]
     },
     "execution_count": 61,
     "metadata": {},
     "output_type": "execute_result"
    }
   ],
   "source": [
    "tmy.tail()"
   ]
  },
  {
   "cell_type": "markdown",
   "metadata": {},
   "source": [
    "**Q 11.6:** Calculate the mean irradiance $G_\\mathrm{mean}$ of the radiation component relevant for the Dish-Stirling system with solar tracker. Utilize the vectorized functions of numpy or pandas, respectively. What is the unit of this mean? Print the result appropriately, i.e. formatted including unit."
   ]
  },
  {
   "cell_type": "code",
   "execution_count": 62,
   "metadata": {},
   "outputs": [],
   "source": [
    "# Code\n",
    "\n",
    "# Gmean = \n",
    "\n",
    "# print(f\"...\")"
   ]
  },
  {
   "cell_type": "markdown",
   "metadata": {},
   "source": [
    "**Q 11.7:** What area $A$ and diameter $d$ must the circular solar dish have to concentrate enough thermal input power $P_\\mathrm{in}$ for the engine?\n",
    "<br>If you were not able to calculate $P_\\mathrm{in}$ you could use the design value $P_\\mathrm{in} = 13\\,\\mathrm{kW}$"
   ]
  },
  {
   "cell_type": "code",
   "execution_count": 63,
   "metadata": {
    "tags": []
   },
   "outputs": [],
   "source": [
    "# Code\n",
    "\n",
    "# A = \n",
    "# d = \n",
    "\n",
    "# print(f\"...\")\n",
    "# ..."
   ]
  },
  {
   "cell_type": "markdown",
   "metadata": {},
   "source": [
    "**Q 11.8:** The size is probably huge! Why is this the case? **Is this realistic?** Which or our system usage assumptions are questionable? How should we change the system usage assumptions to achieve more realistic results? **Discuss!** "
   ]
  },
  {
   "cell_type": "markdown",
   "metadata": {},
   "source": [
    "**Answer:**"
   ]
  },
  {
   "cell_type": "markdown",
   "metadata": {},
   "source": [
    "**Q 11.9:** Fig.1 of this Jupyter notebook shows a real (old) Dish-Stirling experiment. In the local subfolder `./literature/` you find an article (pdf) with detailed performance analyses. The authors state that the dish is oversized. What is the consequence? Which technical measures had to be taken to handle the situation? "
   ]
  },
  {
   "cell_type": "markdown",
   "metadata": {},
   "source": [
    "**Answer:**"
   ]
  },
  {
   "cell_type": "markdown",
   "metadata": {},
   "source": [
    "**Q 11.10:** The performance analysis is partly based on simulations. The simulation is based on an \"insolation\" (what I called irradiance) of $906\\,\\mathrm{Wm^{-2}}$. It seems that the diameter (area) of the dish is not given, but you can estimate it indirectly from Table 3 by means of _\"Power from dish\"_. Which diameter $d_\\mathrm{ED}$ of the dish (subscript ED stands for EuroDish) follows from these quantities?\n"
   ]
  },
  {
   "cell_type": "code",
   "execution_count": 64,
   "metadata": {},
   "outputs": [],
   "source": [
    "# Code"
   ]
  },
  {
   "cell_type": "markdown",
   "metadata": {},
   "source": [
    "**Q 11.11:** This collected power is concentrated to the absorber. This heat transfer is associated with several losses such that the _\"Thermal power into engine\"_ (Table 3) is reduced. The engine transforms this input power to usable mechanical output power at the rotating shaft named _\"Stirling shaft power\"_ in Table 3. What is the resulting \"mechanical\" efficiency of the Stirling engine converting heat to work?"
   ]
  },
  {
   "cell_type": "code",
   "execution_count": 65,
   "metadata": {},
   "outputs": [],
   "source": [
    "# Code"
   ]
  },
  {
   "cell_type": "markdown",
   "metadata": {},
   "source": [
    "## 12. Feedback\n",
    "\n",
    "Would you please give me a personal feedback? How do you like this comprehensive task? "
   ]
  },
  {
   "cell_type": "markdown",
   "metadata": {},
   "source": [
    "**Answer:** I think that this task is ..."
   ]
  },
  {
   "cell_type": "code",
   "execution_count": null,
   "metadata": {},
   "outputs": [],
   "source": []
  }
 ],
 "metadata": {
  "kernelspec": {
   "display_name": "Python 3 (ipykernel)",
   "language": "python",
   "name": "python3"
  },
  "language_info": {
   "codemirror_mode": {
    "name": "ipython",
    "version": 3
   },
   "file_extension": ".py",
   "mimetype": "text/x-python",
   "name": "python",
   "nbconvert_exporter": "python",
   "pygments_lexer": "ipython3",
   "version": "3.9.7"
  }
 },
 "nbformat": 4,
 "nbformat_minor": 4
}
